{
 "cells": [
  {
   "cell_type": "markdown",
   "id": "5338ee6b",
   "metadata": {},
   "source": [
    "# Market segmentation example"
   ]
  },
  {
   "cell_type": "markdown",
   "id": "60fb55ac",
   "metadata": {},
   "source": [
    "## Problem- \n",
    "### We have given ratings submitted by our customers and ratings of their loyalty based on their purchase,\n",
    "### now we have to seperate them in different groups to make marketing strategy from them."
   ]
  },
  {
   "cell_type": "markdown",
   "id": "e2c99eda",
   "metadata": {},
   "source": [
    "## Import relevent libraries"
   ]
  },
  {
   "cell_type": "code",
   "execution_count": 1,
   "id": "0cf6d963",
   "metadata": {},
   "outputs": [],
   "source": [
    "import numpy as np\n",
    "import pandas as pd\n",
    "import matplotlib.pyplot as plt\n",
    "import seaborn as sns\n",
    "sns.set()\n",
    "from sklearn.cluster import KMeans"
   ]
  },
  {
   "cell_type": "markdown",
   "id": "1d547c44",
   "metadata": {},
   "source": [
    "## Load the data"
   ]
  },
  {
   "cell_type": "code",
   "execution_count": 2,
   "id": "c602a4ce",
   "metadata": {},
   "outputs": [],
   "source": [
    "raw_data=pd.read_csv(r'D:\\Datasets\\7.Market Segmentation.csv')"
   ]
  },
  {
   "cell_type": "code",
   "execution_count": 3,
   "id": "e8956344",
   "metadata": {},
   "outputs": [
    {
     "data": {
      "text/html": [
       "<div>\n",
       "<style scoped>\n",
       "    .dataframe tbody tr th:only-of-type {\n",
       "        vertical-align: middle;\n",
       "    }\n",
       "\n",
       "    .dataframe tbody tr th {\n",
       "        vertical-align: top;\n",
       "    }\n",
       "\n",
       "    .dataframe thead th {\n",
       "        text-align: right;\n",
       "    }\n",
       "</style>\n",
       "<table border=\"1\" class=\"dataframe\">\n",
       "  <thead>\n",
       "    <tr style=\"text-align: right;\">\n",
       "      <th></th>\n",
       "      <th>Satisfaction</th>\n",
       "      <th>Loyalty</th>\n",
       "    </tr>\n",
       "  </thead>\n",
       "  <tbody>\n",
       "    <tr>\n",
       "      <th>0</th>\n",
       "      <td>4</td>\n",
       "      <td>-1.33</td>\n",
       "    </tr>\n",
       "    <tr>\n",
       "      <th>1</th>\n",
       "      <td>6</td>\n",
       "      <td>-0.28</td>\n",
       "    </tr>\n",
       "    <tr>\n",
       "      <th>2</th>\n",
       "      <td>5</td>\n",
       "      <td>-0.99</td>\n",
       "    </tr>\n",
       "    <tr>\n",
       "      <th>3</th>\n",
       "      <td>7</td>\n",
       "      <td>-0.29</td>\n",
       "    </tr>\n",
       "    <tr>\n",
       "      <th>4</th>\n",
       "      <td>4</td>\n",
       "      <td>1.06</td>\n",
       "    </tr>\n",
       "    <tr>\n",
       "      <th>5</th>\n",
       "      <td>1</td>\n",
       "      <td>-1.66</td>\n",
       "    </tr>\n",
       "    <tr>\n",
       "      <th>6</th>\n",
       "      <td>10</td>\n",
       "      <td>-0.97</td>\n",
       "    </tr>\n",
       "    <tr>\n",
       "      <th>7</th>\n",
       "      <td>8</td>\n",
       "      <td>-0.32</td>\n",
       "    </tr>\n",
       "    <tr>\n",
       "      <th>8</th>\n",
       "      <td>8</td>\n",
       "      <td>1.02</td>\n",
       "    </tr>\n",
       "    <tr>\n",
       "      <th>9</th>\n",
       "      <td>8</td>\n",
       "      <td>0.68</td>\n",
       "    </tr>\n",
       "    <tr>\n",
       "      <th>10</th>\n",
       "      <td>10</td>\n",
       "      <td>-0.34</td>\n",
       "    </tr>\n",
       "    <tr>\n",
       "      <th>11</th>\n",
       "      <td>5</td>\n",
       "      <td>0.39</td>\n",
       "    </tr>\n",
       "    <tr>\n",
       "      <th>12</th>\n",
       "      <td>5</td>\n",
       "      <td>-1.69</td>\n",
       "    </tr>\n",
       "    <tr>\n",
       "      <th>13</th>\n",
       "      <td>2</td>\n",
       "      <td>0.67</td>\n",
       "    </tr>\n",
       "    <tr>\n",
       "      <th>14</th>\n",
       "      <td>7</td>\n",
       "      <td>0.27</td>\n",
       "    </tr>\n",
       "    <tr>\n",
       "      <th>15</th>\n",
       "      <td>9</td>\n",
       "      <td>1.36</td>\n",
       "    </tr>\n",
       "    <tr>\n",
       "      <th>16</th>\n",
       "      <td>8</td>\n",
       "      <td>1.38</td>\n",
       "    </tr>\n",
       "    <tr>\n",
       "      <th>17</th>\n",
       "      <td>7</td>\n",
       "      <td>1.36</td>\n",
       "    </tr>\n",
       "    <tr>\n",
       "      <th>18</th>\n",
       "      <td>7</td>\n",
       "      <td>-0.34</td>\n",
       "    </tr>\n",
       "    <tr>\n",
       "      <th>19</th>\n",
       "      <td>9</td>\n",
       "      <td>0.67</td>\n",
       "    </tr>\n",
       "    <tr>\n",
       "      <th>20</th>\n",
       "      <td>10</td>\n",
       "      <td>1.18</td>\n",
       "    </tr>\n",
       "    <tr>\n",
       "      <th>21</th>\n",
       "      <td>3</td>\n",
       "      <td>-1.69</td>\n",
       "    </tr>\n",
       "    <tr>\n",
       "      <th>22</th>\n",
       "      <td>4</td>\n",
       "      <td>1.04</td>\n",
       "    </tr>\n",
       "    <tr>\n",
       "      <th>23</th>\n",
       "      <td>3</td>\n",
       "      <td>-0.96</td>\n",
       "    </tr>\n",
       "    <tr>\n",
       "      <th>24</th>\n",
       "      <td>6</td>\n",
       "      <td>1.03</td>\n",
       "    </tr>\n",
       "    <tr>\n",
       "      <th>25</th>\n",
       "      <td>9</td>\n",
       "      <td>-0.99</td>\n",
       "    </tr>\n",
       "    <tr>\n",
       "      <th>26</th>\n",
       "      <td>10</td>\n",
       "      <td>0.37</td>\n",
       "    </tr>\n",
       "    <tr>\n",
       "      <th>27</th>\n",
       "      <td>9</td>\n",
       "      <td>0.03</td>\n",
       "    </tr>\n",
       "    <tr>\n",
       "      <th>28</th>\n",
       "      <td>3</td>\n",
       "      <td>-1.36</td>\n",
       "    </tr>\n",
       "    <tr>\n",
       "      <th>29</th>\n",
       "      <td>5</td>\n",
       "      <td>0.73</td>\n",
       "    </tr>\n",
       "  </tbody>\n",
       "</table>\n",
       "</div>"
      ],
      "text/plain": [
       "    Satisfaction  Loyalty\n",
       "0              4    -1.33\n",
       "1              6    -0.28\n",
       "2              5    -0.99\n",
       "3              7    -0.29\n",
       "4              4     1.06\n",
       "5              1    -1.66\n",
       "6             10    -0.97\n",
       "7              8    -0.32\n",
       "8              8     1.02\n",
       "9              8     0.68\n",
       "10            10    -0.34\n",
       "11             5     0.39\n",
       "12             5    -1.69\n",
       "13             2     0.67\n",
       "14             7     0.27\n",
       "15             9     1.36\n",
       "16             8     1.38\n",
       "17             7     1.36\n",
       "18             7    -0.34\n",
       "19             9     0.67\n",
       "20            10     1.18\n",
       "21             3    -1.69\n",
       "22             4     1.04\n",
       "23             3    -0.96\n",
       "24             6     1.03\n",
       "25             9    -0.99\n",
       "26            10     0.37\n",
       "27             9     0.03\n",
       "28             3    -1.36\n",
       "29             5     0.73"
      ]
     },
     "execution_count": 3,
     "metadata": {},
     "output_type": "execute_result"
    }
   ],
   "source": [
    "raw_data"
   ]
  },
  {
   "cell_type": "markdown",
   "id": "199db8bb",
   "metadata": {},
   "source": [
    "## Plot the data"
   ]
  },
  {
   "cell_type": "code",
   "execution_count": 4,
   "id": "dffe2821",
   "metadata": {},
   "outputs": [
    {
     "data": {
      "text/plain": [
       "Text(0, 0.5, 'Loyality')"
      ]
     },
     "execution_count": 4,
     "metadata": {},
     "output_type": "execute_result"
    },
    {
     "data": {
      "image/png": "[encoded data removed]",
      "text/plain": [
       "<Figure size 800x800 with 1 Axes>"
      ]
     },
     "metadata": {},
     "output_type": "display_data"
    }
   ],
   "source": [
    "plt.figure(figsize=(8,8))\n",
    "plt.scatter(raw_data['Satisfaction'],raw_data['Loyalty'])\n",
    "plt.xlabel('Satisfaction',fontsize=20)\n",
    "plt.ylabel('Loyality',fontsize=20)"
   ]
  },
  {
   "cell_type": "markdown",
   "id": "97ede69e",
   "metadata": {},
   "source": [
    "## Select the features"
   ]
  },
  {
   "cell_type": "code",
   "execution_count": 5,
   "id": "ad8af695",
   "metadata": {},
   "outputs": [],
   "source": [
    "x=raw_data.copy()"
   ]
  },
  {
   "cell_type": "markdown",
   "id": "2a5d3a73",
   "metadata": {},
   "source": [
    "## Clustering"
   ]
  },
  {
   "cell_type": "code",
   "execution_count": 6,
   "id": "69cb8a56",
   "metadata": {},
   "outputs": [
    {
     "data": {
      "text/plain": [
       "KMeans()"
      ]
     },
     "execution_count": 6,
     "metadata": {},
     "output_type": "execute_result"
    }
   ],
   "source": [
    "kmeans=KMeans()\n",
    "kmeans.fit(x)"
   ]
  },
  {
   "cell_type": "code",
   "execution_count": 7,
   "id": "722a7545",
   "metadata": {},
   "outputs": [],
   "source": [
    "clusters=x.copy()\n",
    "clusters['cluster_pred']=kmeans.fit_predict(x)"
   ]
  },
  {
   "cell_type": "code",
   "execution_count": 8,
   "id": "d542255e",
   "metadata": {},
   "outputs": [
    {
     "data": {
      "text/plain": [
       "Text(0, 0.5, 'Loyalty')"
      ]
     },
     "execution_count": 8,
     "metadata": {},
     "output_type": "execute_result"
    },
    {
     "data": {
      "image/png": "[encoded data removed]",
      "text/plain": [
       "<Figure size 1000x1000 with 1 Axes>"
      ]
     },
     "metadata": {},
     "output_type": "display_data"
    }
   ],
   "source": [
    "plt.figure(figsize=(10,10))\n",
    "plt.scatter(clusters['Satisfaction'],clusters['Loyalty'],c=clusters['cluster_pred'],cmap='rainbow')\n",
    "plt.xlabel('Satisfaction',fontsize=20)\n",
    "plt.ylabel('Loyalty',fontsize=20)"
   ]
  },
  {
   "cell_type": "markdown",
   "id": "a1bd8c9f",
   "metadata": {},
   "source": [
    "## Standardize the variables"
   ]
  },
  {
   "cell_type": "code",
   "execution_count": 9,
   "id": "53f9a57c",
   "metadata": {},
   "outputs": [
    {
     "data": {
      "text/plain": [
       "array([[-0.93138063, -1.3318111 ],\n",
       "       [-0.15523011, -0.28117124],\n",
       "       [-0.54330537, -0.99160391],\n",
       "       [ 0.23284516, -0.29117733],\n",
       "       [-0.93138063,  1.05964534],\n",
       "       [-2.09560642, -1.6620122 ],\n",
       "       [ 1.39707095, -0.97159172],\n",
       "       [ 0.62092042, -0.32119561],\n",
       "       [ 0.62092042,  1.01962097],\n",
       "       [ 0.62092042,  0.67941378],\n",
       "       [ 1.39707095, -0.3412078 ],\n",
       "       [-0.54330537,  0.38923705],\n",
       "       [-0.54330537, -1.69203048],\n",
       "       [-1.70753116,  0.66940768],\n",
       "       [ 0.23284516,  0.26916393],\n",
       "       [ 1.00899568,  1.35982816],\n",
       "       [ 0.62092042,  1.37984035],\n",
       "       [ 0.23284516,  1.35982816],\n",
       "       [ 0.23284516, -0.3412078 ],\n",
       "       [ 1.00899568,  0.66940768],\n",
       "       [ 1.39707095,  1.17971847],\n",
       "       [-1.31945589, -1.69203048],\n",
       "       [-0.93138063,  1.03963316],\n",
       "       [-1.31945589, -0.96158562],\n",
       "       [-0.15523011,  1.02962706],\n",
       "       [ 1.00899568, -0.99160391],\n",
       "       [ 1.39707095,  0.36922486],\n",
       "       [ 1.00899568,  0.02901767],\n",
       "       [-1.31945589, -1.36182938],\n",
       "       [-0.54330537,  0.72944425]])"
      ]
     },
     "execution_count": 9,
     "metadata": {},
     "output_type": "execute_result"
    }
   ],
   "source": [
    "from sklearn import preprocessing\n",
    "x_scaled=preprocessing.scale(x)\n",
    "x_scaled"
   ]
  },
  {
   "cell_type": "markdown",
   "id": "bfb35be5",
   "metadata": {},
   "source": [
    "## Take advantage of the Elbow method"
   ]
  },
  {
   "cell_type": "code",
   "execution_count": 10,
   "id": "2f7ec830",
   "metadata": {},
   "outputs": [
    {
     "data": {
      "text/plain": [
       "[59.999999999999986,\n",
       " 29.818973034723143,\n",
       " 17.913349527387968,\n",
       " 10.247181805928422,\n",
       " 7.792695153937187,\n",
       " 6.569489487091783,\n",
       " 5.5391764250451025,\n",
       " 4.3877896288930005,\n",
       " 3.7504443965485494]"
      ]
     },
     "execution_count": 10,
     "metadata": {},
     "output_type": "execute_result"
    }
   ],
   "source": [
    "wcss=[]\n",
    "\n",
    "for i in range(1,10):\n",
    "    kmeans=KMeans(i)\n",
    "    kmeans.fit(x_scaled)\n",
    "    inert=kmeans.inertia_\n",
    "    wcss.append(inert)\n",
    "wcss"
   ]
  },
  {
   "cell_type": "code",
   "execution_count": 11,
   "id": "ac12d772",
   "metadata": {},
   "outputs": [
    {
     "data": {
      "text/plain": [
       "Text(0, 0.5, 'WCSS')"
      ]
     },
     "execution_count": 11,
     "metadata": {},
     "output_type": "execute_result"
    },
    {
     "data": {
      "image/png": "[encoded data removed]",
      "text/plain": [
       "<Figure size 640x480 with 1 Axes>"
      ]
     },
     "metadata": {},
     "output_type": "display_data"
    }
   ],
   "source": [
    "plt.plot(range(1,10),wcss)\n",
    "plt.xlabel('No of clusters')\n",
    "plt.ylabel('WCSS')"
   ]
  },
  {
   "cell_type": "markdown",
   "id": "a49e5d3d",
   "metadata": {},
   "source": [
    "- From graph we can clearly see the 4 or 5 nos of cluster are best choice"
   ]
  },
  {
   "cell_type": "markdown",
   "id": "a4c69ad5",
   "metadata": {},
   "source": [
    "## Plotting Cluster Chart with 4 clusters"
   ]
  },
  {
   "cell_type": "code",
   "execution_count": 12,
   "id": "f4c300cb",
   "metadata": {},
   "outputs": [],
   "source": [
    "kmeans_4=KMeans(4)\n",
    "kmeans_4.fit(x_scaled)\n",
    "clusters_new=x.copy()\n",
    "clusters_new['clusters_pred']=kmeans_4.fit_predict(x_scaled)"
   ]
  },
  {
   "cell_type": "code",
   "execution_count": 13,
   "id": "5bff9e27",
   "metadata": {},
   "outputs": [
    {
     "data": {
      "text/html": [
       "<div>\n",
       "<style scoped>\n",
       "    .dataframe tbody tr th:only-of-type {\n",
       "        vertical-align: middle;\n",
       "    }\n",
       "\n",
       "    .dataframe tbody tr th {\n",
       "        vertical-align: top;\n",
       "    }\n",
       "\n",
       "    .dataframe thead th {\n",
       "        text-align: right;\n",
       "    }\n",
       "</style>\n",
       "<table border=\"1\" class=\"dataframe\">\n",
       "  <thead>\n",
       "    <tr style=\"text-align: right;\">\n",
       "      <th></th>\n",
       "      <th>Satisfaction</th>\n",
       "      <th>Loyalty</th>\n",
       "      <th>clusters_pred</th>\n",
       "    </tr>\n",
       "  </thead>\n",
       "  <tbody>\n",
       "    <tr>\n",
       "      <th>0</th>\n",
       "      <td>4</td>\n",
       "      <td>-1.33</td>\n",
       "      <td>1</td>\n",
       "    </tr>\n",
       "    <tr>\n",
       "      <th>1</th>\n",
       "      <td>6</td>\n",
       "      <td>-0.28</td>\n",
       "      <td>2</td>\n",
       "    </tr>\n",
       "    <tr>\n",
       "      <th>2</th>\n",
       "      <td>5</td>\n",
       "      <td>-0.99</td>\n",
       "      <td>1</td>\n",
       "    </tr>\n",
       "    <tr>\n",
       "      <th>3</th>\n",
       "      <td>7</td>\n",
       "      <td>-0.29</td>\n",
       "      <td>2</td>\n",
       "    </tr>\n",
       "    <tr>\n",
       "      <th>4</th>\n",
       "      <td>4</td>\n",
       "      <td>1.06</td>\n",
       "      <td>0</td>\n",
       "    </tr>\n",
       "    <tr>\n",
       "      <th>5</th>\n",
       "      <td>1</td>\n",
       "      <td>-1.66</td>\n",
       "      <td>1</td>\n",
       "    </tr>\n",
       "    <tr>\n",
       "      <th>6</th>\n",
       "      <td>10</td>\n",
       "      <td>-0.97</td>\n",
       "      <td>2</td>\n",
       "    </tr>\n",
       "    <tr>\n",
       "      <th>7</th>\n",
       "      <td>8</td>\n",
       "      <td>-0.32</td>\n",
       "      <td>2</td>\n",
       "    </tr>\n",
       "    <tr>\n",
       "      <th>8</th>\n",
       "      <td>8</td>\n",
       "      <td>1.02</td>\n",
       "      <td>3</td>\n",
       "    </tr>\n",
       "    <tr>\n",
       "      <th>9</th>\n",
       "      <td>8</td>\n",
       "      <td>0.68</td>\n",
       "      <td>3</td>\n",
       "    </tr>\n",
       "    <tr>\n",
       "      <th>10</th>\n",
       "      <td>10</td>\n",
       "      <td>-0.34</td>\n",
       "      <td>2</td>\n",
       "    </tr>\n",
       "    <tr>\n",
       "      <th>11</th>\n",
       "      <td>5</td>\n",
       "      <td>0.39</td>\n",
       "      <td>0</td>\n",
       "    </tr>\n",
       "    <tr>\n",
       "      <th>12</th>\n",
       "      <td>5</td>\n",
       "      <td>-1.69</td>\n",
       "      <td>1</td>\n",
       "    </tr>\n",
       "    <tr>\n",
       "      <th>13</th>\n",
       "      <td>2</td>\n",
       "      <td>0.67</td>\n",
       "      <td>0</td>\n",
       "    </tr>\n",
       "    <tr>\n",
       "      <th>14</th>\n",
       "      <td>7</td>\n",
       "      <td>0.27</td>\n",
       "      <td>2</td>\n",
       "    </tr>\n",
       "    <tr>\n",
       "      <th>15</th>\n",
       "      <td>9</td>\n",
       "      <td>1.36</td>\n",
       "      <td>3</td>\n",
       "    </tr>\n",
       "    <tr>\n",
       "      <th>16</th>\n",
       "      <td>8</td>\n",
       "      <td>1.38</td>\n",
       "      <td>3</td>\n",
       "    </tr>\n",
       "    <tr>\n",
       "      <th>17</th>\n",
       "      <td>7</td>\n",
       "      <td>1.36</td>\n",
       "      <td>3</td>\n",
       "    </tr>\n",
       "    <tr>\n",
       "      <th>18</th>\n",
       "      <td>7</td>\n",
       "      <td>-0.34</td>\n",
       "      <td>2</td>\n",
       "    </tr>\n",
       "    <tr>\n",
       "      <th>19</th>\n",
       "      <td>9</td>\n",
       "      <td>0.67</td>\n",
       "      <td>3</td>\n",
       "    </tr>\n",
       "    <tr>\n",
       "      <th>20</th>\n",
       "      <td>10</td>\n",
       "      <td>1.18</td>\n",
       "      <td>3</td>\n",
       "    </tr>\n",
       "    <tr>\n",
       "      <th>21</th>\n",
       "      <td>3</td>\n",
       "      <td>-1.69</td>\n",
       "      <td>1</td>\n",
       "    </tr>\n",
       "    <tr>\n",
       "      <th>22</th>\n",
       "      <td>4</td>\n",
       "      <td>1.04</td>\n",
       "      <td>0</td>\n",
       "    </tr>\n",
       "    <tr>\n",
       "      <th>23</th>\n",
       "      <td>3</td>\n",
       "      <td>-0.96</td>\n",
       "      <td>1</td>\n",
       "    </tr>\n",
       "    <tr>\n",
       "      <th>24</th>\n",
       "      <td>6</td>\n",
       "      <td>1.03</td>\n",
       "      <td>0</td>\n",
       "    </tr>\n",
       "    <tr>\n",
       "      <th>25</th>\n",
       "      <td>9</td>\n",
       "      <td>-0.99</td>\n",
       "      <td>2</td>\n",
       "    </tr>\n",
       "    <tr>\n",
       "      <th>26</th>\n",
       "      <td>10</td>\n",
       "      <td>0.37</td>\n",
       "      <td>3</td>\n",
       "    </tr>\n",
       "    <tr>\n",
       "      <th>27</th>\n",
       "      <td>9</td>\n",
       "      <td>0.03</td>\n",
       "      <td>2</td>\n",
       "    </tr>\n",
       "    <tr>\n",
       "      <th>28</th>\n",
       "      <td>3</td>\n",
       "      <td>-1.36</td>\n",
       "      <td>1</td>\n",
       "    </tr>\n",
       "    <tr>\n",
       "      <th>29</th>\n",
       "      <td>5</td>\n",
       "      <td>0.73</td>\n",
       "      <td>0</td>\n",
       "    </tr>\n",
       "  </tbody>\n",
       "</table>\n",
       "</div>"
      ],
      "text/plain": [
       "    Satisfaction  Loyalty  clusters_pred\n",
       "0              4    -1.33              1\n",
       "1              6    -0.28              2\n",
       "2              5    -0.99              1\n",
       "3              7    -0.29              2\n",
       "4              4     1.06              0\n",
       "5              1    -1.66              1\n",
       "6             10    -0.97              2\n",
       "7              8    -0.32              2\n",
       "8              8     1.02              3\n",
       "9              8     0.68              3\n",
       "10            10    -0.34              2\n",
       "11             5     0.39              0\n",
       "12             5    -1.69              1\n",
       "13             2     0.67              0\n",
       "14             7     0.27              2\n",
       "15             9     1.36              3\n",
       "16             8     1.38              3\n",
       "17             7     1.36              3\n",
       "18             7    -0.34              2\n",
       "19             9     0.67              3\n",
       "20            10     1.18              3\n",
       "21             3    -1.69              1\n",
       "22             4     1.04              0\n",
       "23             3    -0.96              1\n",
       "24             6     1.03              0\n",
       "25             9    -0.99              2\n",
       "26            10     0.37              3\n",
       "27             9     0.03              2\n",
       "28             3    -1.36              1\n",
       "29             5     0.73              0"
      ]
     },
     "execution_count": 13,
     "metadata": {},
     "output_type": "execute_result"
    }
   ],
   "source": [
    "clusters_new"
   ]
  },
  {
   "cell_type": "code",
   "execution_count": null,
   "id": "c3cc0928",
   "metadata": {},
   "outputs": [
    {
     "data": {
      "text/plain": [
       "Text(0, 0.5, 'Loyalty')"
      ]
     },
     "execution_count": 14,
     "metadata": {},
     "output_type": "execute_result"
    }
   ],
   "source": [
    "plt.figure(figsize=(10,10))\n",
    "plt.scatter(clusters_new['Satisfaction'],clusters_new['Loyalty'],c=clusters_new['clusters_pred'],cmap='Dark2')\n",
    "plt.xlabel('Satisfaction',fontsize=20)\n",
    "plt.ylabel('Loyalty',fontsize=20)"
   ]
  },
  {
   "cell_type": "markdown",
   "id": "e565dfec",
   "metadata": {},
   "source": [
    "## Plotting Graph with 5 Clusters"
   ]
  },
  {
   "cell_type": "code",
   "execution_count": null,
   "id": "5c532bd0",
   "metadata": {},
   "outputs": [],
   "source": [
    "kmeans_5=KMeans(5)\n",
    "kmeans_5.fit(x_scaled)\n",
    "clusters_new=x.copy()\n",
    "clusters_new['clusters_pred']=kmeans_5.fit_predict(x_scaled)"
   ]
  },
  {
   "cell_type": "code",
   "execution_count": null,
   "id": "111dabad",
   "metadata": {},
   "outputs": [],
   "source": [
    "plt.figure(figsize=(10,10))\n",
    "plt.scatter(clusters_new['Satisfaction'],clusters_new['Loyalty'],c=clusters_new['clusters_pred'],cmap='CMRmap_r')\n",
    "plt.xlabel('Satisfaction',fontsize=20)\n",
    "plt.ylabel('Loyalty',fontsize=20)"
   ]
  },
  {
   "cell_type": "markdown",
   "id": "3fe1bdeb",
   "metadata": {},
   "source": [
    "## From analyzing both graph we can choose one which may be more useful for our needs\n",
    "#### In this case I would choose 4 clusters and divide customers in 4 Groups \\n\n",
    "#### 1.Fans- High satisfaction, high loyalty\n",
    "#### 2.Roamers- High satisfaction, low loyalty\n",
    "#### 3.Supporters- Low satisfaction, high loyalty\n",
    "#### 4.Alieanated- Low satisfaction, low loyalty"
   ]
  }
 ],
 "metadata": {
  "kernelspec": {
   "display_name": "Python 3 (ipykernel)",
   "language": "python",
   "name": "python3"
  },
  "language_info": {
   "codemirror_mode": {
    "name": "ipython",
    "version": 3
   },
   "file_extension": ".py",
   "mimetype": "text/x-python",
   "name": "python",
   "nbconvert_exporter": "python",
   "pygments_lexer": "ipython3",
   "version": "3.9.13"
  }
 },
 "nbformat": 4,
 "nbformat_minor": 5
}
