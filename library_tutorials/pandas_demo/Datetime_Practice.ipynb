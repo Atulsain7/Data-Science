{
 "cells": [
  {
   "cell_type": "markdown",
   "id": "b620f5e5",
   "metadata": {},
   "source": [
    "# Date time Modules"
   ]
  },
  {
   "cell_type": "code",
   "execution_count": 1,
   "id": "5f741778",
   "metadata": {},
   "outputs": [],
   "source": [
    "import time"
   ]
  },
  {
   "cell_type": "code",
   "execution_count": 2,
   "id": "3a007334",
   "metadata": {},
   "outputs": [
    {
     "data": {
      "text/plain": [
       "1666602978.4778285"
      ]
     },
     "execution_count": 2,
     "metadata": {},
     "output_type": "execute_result"
    }
   ],
   "source": [
    "x=time.time() # returns the no of seconds pass from epoach\n",
    "x"
   ]
  },
  {
   "cell_type": "code",
   "execution_count": 3,
   "id": "81441edd",
   "metadata": {},
   "outputs": [
    {
     "data": {
      "text/plain": [
       "float"
      ]
     },
     "execution_count": 3,
     "metadata": {},
     "output_type": "execute_result"
    }
   ],
   "source": [
    "type(x)"
   ]
  },
  {
   "cell_type": "code",
   "execution_count": 4,
   "id": "28ee81e6",
   "metadata": {},
   "outputs": [],
   "source": [
    "# help(time.time)"
   ]
  },
  {
   "cell_type": "code",
   "execution_count": 5,
   "id": "e4ba7d60",
   "metadata": {},
   "outputs": [
    {
     "data": {
      "text/plain": [
       "'Mon Oct 24 14:46:18 2022'"
      ]
     },
     "execution_count": 5,
     "metadata": {},
     "output_type": "execute_result"
    }
   ],
   "source": [
    "time.ctime(x) # Current date and time"
   ]
  },
  {
   "cell_type": "code",
   "execution_count": 6,
   "id": "1ef07bea",
   "metadata": {},
   "outputs": [],
   "source": [
    "# help(time.ctime)"
   ]
  },
  {
   "cell_type": "code",
   "execution_count": 7,
   "id": "3a919857",
   "metadata": {},
   "outputs": [
    {
     "data": {
      "text/plain": [
       "time.struct_time(tm_year=2022, tm_mon=10, tm_mday=24, tm_hour=14, tm_min=46, tm_sec=19, tm_wday=0, tm_yday=297, tm_isdst=0)"
      ]
     },
     "execution_count": 7,
     "metadata": {},
     "output_type": "execute_result"
    }
   ],
   "source": [
    "a=time.localtime()\n",
    "a"
   ]
  },
  {
   "cell_type": "code",
   "execution_count": 8,
   "id": "24126390",
   "metadata": {},
   "outputs": [],
   "source": [
    "# help(time.localtime())"
   ]
  },
  {
   "cell_type": "code",
   "execution_count": 9,
   "id": "1a912b2b",
   "metadata": {},
   "outputs": [
    {
     "data": {
      "text/plain": [
       "1666602979.0"
      ]
     },
     "execution_count": 9,
     "metadata": {},
     "output_type": "execute_result"
    }
   ],
   "source": [
    "b=time.mktime(a) #converts struct_time in local format\n",
    "b"
   ]
  },
  {
   "cell_type": "code",
   "execution_count": 10,
   "id": "cfbe9688",
   "metadata": {},
   "outputs": [],
   "source": [
    "c=time.asctime(a)"
   ]
  },
  {
   "cell_type": "code",
   "execution_count": 11,
   "id": "5cdc63af",
   "metadata": {},
   "outputs": [
    {
     "name": "stdout",
     "output_type": "stream",
     "text": [
      "Mon Oct 24 14:46:19 2022\n"
     ]
    }
   ],
   "source": [
    "print(c)"
   ]
  },
  {
   "cell_type": "code",
   "execution_count": 12,
   "id": "f2d9ea66",
   "metadata": {},
   "outputs": [
    {
     "name": "stdout",
     "output_type": "stream",
     "text": [
      "Help on built-in function strftime in module time:\n",
      "\n",
      "strftime(...)\n",
      "    strftime(format[, tuple]) -> string\n",
      "    \n",
      "    Convert a time tuple to a string according to a format specification.\n",
      "    See the library reference manual for formatting codes. When the time tuple\n",
      "    is not present, current time as returned by localtime() is used.\n",
      "    \n",
      "    Commonly used format codes:\n",
      "    \n",
      "    %Y  Year with century as a decimal number.\n",
      "    %m  Month as a decimal number [01,12].\n",
      "    %d  Day of the month as a decimal number [01,31].\n",
      "    %H  Hour (24-hour clock) as a decimal number [00,23].\n",
      "    %M  Minute as a decimal number [00,59].\n",
      "    %S  Second as a decimal number [00,61].\n",
      "    %z  Time zone offset from UTC.\n",
      "    %a  Locale's abbreviated weekday name.\n",
      "    %A  Locale's full weekday name.\n",
      "    %b  Locale's abbreviated month name.\n",
      "    %B  Locale's full month name.\n",
      "    %c  Locale's appropriate date and time representation.\n",
      "    %I  Hour (12-hour clock) as a decimal number [01,12].\n",
      "    %p  Locale's equivalent of either AM or PM.\n",
      "    \n",
      "    Other codes may be available on your platform.  See documentation for\n",
      "    the C library strftime function.\n",
      "\n"
     ]
    }
   ],
   "source": [
    "help(time.strftime)"
   ]
  },
  {
   "cell_type": "code",
   "execution_count": 13,
   "id": "07dbe74c",
   "metadata": {},
   "outputs": [
    {
     "name": "stdout",
     "output_type": "stream",
     "text": [
      "time.struct_time(tm_year=2022, tm_mon=10, tm_mday=24, tm_hour=14, tm_min=46, tm_sec=19, tm_wday=0, tm_yday=297, tm_isdst=0)\n"
     ]
    }
   ],
   "source": [
    "print(a)"
   ]
  },
  {
   "cell_type": "code",
   "execution_count": 14,
   "id": "6076467b",
   "metadata": {},
   "outputs": [],
   "source": [
    "x=time.strftime('%m-%d-%Y') # Return current time in required format"
   ]
  },
  {
   "cell_type": "code",
   "execution_count": 15,
   "id": "9e6174e1",
   "metadata": {},
   "outputs": [
    {
     "name": "stdout",
     "output_type": "stream",
     "text": [
      "10-24-2022\n"
     ]
    }
   ],
   "source": [
    "print(x)"
   ]
  },
  {
   "cell_type": "code",
   "execution_count": 16,
   "id": "a51ccab6",
   "metadata": {},
   "outputs": [
    {
     "name": "stdout",
     "output_type": "stream",
     "text": [
      "time.struct_time(tm_year=2022, tm_mon=8, tm_mday=8, tm_hour=0, tm_min=0, tm_sec=0, tm_wday=0, tm_yday=220, tm_isdst=-1)\n"
     ]
    }
   ],
   "source": [
    "y='08 August 2022'\n",
    "s=time.strptime(y,'%d %B %Y') # convert given time in struct time format\n",
    "print(s)"
   ]
  },
  {
   "cell_type": "markdown",
   "id": "a598e6cc",
   "metadata": {},
   "source": [
    "# DateTime"
   ]
  },
  {
   "cell_type": "code",
   "execution_count": 17,
   "id": "bfcec259",
   "metadata": {},
   "outputs": [],
   "source": [
    "import datetime"
   ]
  },
  {
   "cell_type": "code",
   "execution_count": 18,
   "id": "b8a73bdb",
   "metadata": {},
   "outputs": [
    {
     "name": "stdout",
     "output_type": "stream",
     "text": [
      "2019-04-23 04:53:02.000235\n"
     ]
    }
   ],
   "source": [
    "print(datetime.datetime(2019,4,23,4,53,2,235))"
   ]
  },
  {
   "cell_type": "code",
   "execution_count": 19,
   "id": "a2489dd5",
   "metadata": {},
   "outputs": [
    {
     "data": {
      "text/plain": [
       "datetime.datetime(2022, 10, 24, 14, 46, 20, 614170)"
      ]
     },
     "execution_count": 19,
     "metadata": {},
     "output_type": "execute_result"
    }
   ],
   "source": [
    "datetime.datetime.today()"
   ]
  },
  {
   "cell_type": "code",
   "execution_count": 20,
   "id": "2cab9add",
   "metadata": {},
   "outputs": [
    {
     "data": {
      "text/plain": [
       "datetime.datetime(2022, 10, 24, 14, 46, 20, 732795)"
      ]
     },
     "execution_count": 20,
     "metadata": {},
     "output_type": "execute_result"
    }
   ],
   "source": [
    "v=datetime.datetime.now()\n",
    "v"
   ]
  },
  {
   "cell_type": "code",
   "execution_count": 21,
   "id": "97a0dcb3",
   "metadata": {},
   "outputs": [
    {
     "data": {
      "text/plain": [
       "2022"
      ]
     },
     "execution_count": 21,
     "metadata": {},
     "output_type": "execute_result"
    }
   ],
   "source": [
    "v.year"
   ]
  },
  {
   "cell_type": "code",
   "execution_count": 22,
   "id": "3a4f3e26",
   "metadata": {},
   "outputs": [
    {
     "data": {
      "text/plain": [
       "10"
      ]
     },
     "execution_count": 22,
     "metadata": {},
     "output_type": "execute_result"
    }
   ],
   "source": [
    "v.month"
   ]
  },
  {
   "cell_type": "code",
   "execution_count": 23,
   "id": "0f78b1a1",
   "metadata": {},
   "outputs": [
    {
     "data": {
      "text/plain": [
       "14"
      ]
     },
     "execution_count": 23,
     "metadata": {},
     "output_type": "execute_result"
    }
   ],
   "source": [
    "v.hour"
   ]
  },
  {
   "cell_type": "code",
   "execution_count": 24,
   "id": "656dcde9",
   "metadata": {},
   "outputs": [
    {
     "data": {
      "text/plain": [
       "20"
      ]
     },
     "execution_count": 24,
     "metadata": {},
     "output_type": "execute_result"
    }
   ],
   "source": [
    "v.second"
   ]
  },
  {
   "cell_type": "code",
   "execution_count": 25,
   "id": "f2f27f61",
   "metadata": {},
   "outputs": [],
   "source": [
    "b1=datetime.timedelta(days=1)\n",
    "b2=datetime.timedelta(days=20)\n",
    "b3=b1-b2"
   ]
  },
  {
   "cell_type": "code",
   "execution_count": 26,
   "id": "42829947",
   "metadata": {},
   "outputs": [
    {
     "data": {
      "text/plain": [
       "datetime.timedelta(days=-19)"
      ]
     },
     "execution_count": 26,
     "metadata": {},
     "output_type": "execute_result"
    }
   ],
   "source": [
    "b3"
   ]
  },
  {
   "cell_type": "markdown",
   "id": "54e8c77e",
   "metadata": {},
   "source": [
    "# Working with Date and Time in Pandas"
   ]
  },
  {
   "cell_type": "code",
   "execution_count": 27,
   "id": "1e0b7802",
   "metadata": {},
   "outputs": [],
   "source": [
    "import pandas as pd\n",
    "import datetime as dt"
   ]
  },
  {
   "cell_type": "markdown",
   "id": "852b89e2",
   "metadata": {},
   "source": [
    "### Review Python's *datetime* Module"
   ]
  },
  {
   "cell_type": "code",
   "execution_count": 28,
   "id": "b870d4e3",
   "metadata": {},
   "outputs": [],
   "source": [
    "today=dt.date(2019,12,22) # Create date"
   ]
  },
  {
   "cell_type": "code",
   "execution_count": 29,
   "id": "26b5783b",
   "metadata": {},
   "outputs": [
    {
     "data": {
      "text/plain": [
       "22"
      ]
     },
     "execution_count": 29,
     "metadata": {},
     "output_type": "execute_result"
    }
   ],
   "source": [
    "today.day"
   ]
  },
  {
   "cell_type": "code",
   "execution_count": 30,
   "id": "54881abc",
   "metadata": {},
   "outputs": [
    {
     "data": {
      "text/plain": [
       "12"
      ]
     },
     "execution_count": 30,
     "metadata": {},
     "output_type": "execute_result"
    }
   ],
   "source": [
    "today.month"
   ]
  },
  {
   "cell_type": "code",
   "execution_count": 31,
   "id": "ba6e2032",
   "metadata": {},
   "outputs": [
    {
     "data": {
      "text/plain": [
       "2019"
      ]
     },
     "execution_count": 31,
     "metadata": {},
     "output_type": "execute_result"
    }
   ],
   "source": [
    "today.year"
   ]
  },
  {
   "cell_type": "code",
   "execution_count": 32,
   "id": "2ba889b6",
   "metadata": {},
   "outputs": [
    {
     "data": {
      "text/plain": [
       "datetime.date(2019, 12, 22)"
      ]
     },
     "execution_count": 32,
     "metadata": {},
     "output_type": "execute_result"
    }
   ],
   "source": [
    "today"
   ]
  },
  {
   "cell_type": "code",
   "execution_count": 33,
   "id": "319bf962",
   "metadata": {},
   "outputs": [],
   "source": [
    "today=dt.datetime(2019,12,22,14,12,34) # for both date and time"
   ]
  },
  {
   "cell_type": "code",
   "execution_count": 34,
   "id": "a0b3cc9e",
   "metadata": {},
   "outputs": [
    {
     "data": {
      "text/plain": [
       "datetime.datetime(2019, 12, 22, 14, 12, 34)"
      ]
     },
     "execution_count": 34,
     "metadata": {},
     "output_type": "execute_result"
    }
   ],
   "source": [
    "today"
   ]
  },
  {
   "cell_type": "code",
   "execution_count": 35,
   "id": "7fa76968",
   "metadata": {},
   "outputs": [
    {
     "name": "stdout",
     "output_type": "stream",
     "text": [
      "2019-12-22 14:12:34\n"
     ]
    }
   ],
   "source": [
    "print(today)"
   ]
  },
  {
   "cell_type": "code",
   "execution_count": 36,
   "id": "bc5390d1",
   "metadata": {},
   "outputs": [
    {
     "data": {
      "text/plain": [
       "22"
      ]
     },
     "execution_count": 36,
     "metadata": {},
     "output_type": "execute_result"
    }
   ],
   "source": [
    "today.day"
   ]
  },
  {
   "cell_type": "code",
   "execution_count": 37,
   "id": "22f455d7",
   "metadata": {},
   "outputs": [
    {
     "data": {
      "text/plain": [
       "14"
      ]
     },
     "execution_count": 37,
     "metadata": {},
     "output_type": "execute_result"
    }
   ],
   "source": [
    "today.hour"
   ]
  },
  {
   "cell_type": "code",
   "execution_count": 38,
   "id": "6cff904c",
   "metadata": {},
   "outputs": [
    {
     "data": {
      "text/plain": [
       "12"
      ]
     },
     "execution_count": 38,
     "metadata": {},
     "output_type": "execute_result"
    }
   ],
   "source": [
    "today.minute"
   ]
  },
  {
   "cell_type": "code",
   "execution_count": 39,
   "id": "1678d9c0",
   "metadata": {},
   "outputs": [
    {
     "name": "stdout",
     "output_type": "stream",
     "text": [
      "34\n"
     ]
    }
   ],
   "source": [
    "print(today.second)"
   ]
  },
  {
   "cell_type": "markdown",
   "id": "8e1c6bc7",
   "metadata": {},
   "source": [
    "### Timestamp"
   ]
  },
  {
   "cell_type": "code",
   "execution_count": 40,
   "id": "05f8e983",
   "metadata": {},
   "outputs": [
    {
     "data": {
      "text/plain": [
       "Timestamp('2019-12-22 00:00:00')"
      ]
     },
     "execution_count": 40,
     "metadata": {},
     "output_type": "execute_result"
    }
   ],
   "source": [
    "pd.Timestamp('2019-12-22')"
   ]
  },
  {
   "cell_type": "code",
   "execution_count": 41,
   "id": "25e1e66e",
   "metadata": {},
   "outputs": [
    {
     "data": {
      "text/plain": [
       "Timestamp('2019-12-22 00:00:00')"
      ]
     },
     "execution_count": 41,
     "metadata": {},
     "output_type": "execute_result"
    }
   ],
   "source": [
    "pd.Timestamp('2019/12/22')"
   ]
  },
  {
   "cell_type": "code",
   "execution_count": 42,
   "id": "cf241567",
   "metadata": {},
   "outputs": [],
   "source": [
    "# pd.Timestamp('2019,12,22') # gives error"
   ]
  },
  {
   "cell_type": "code",
   "execution_count": 43,
   "id": "1c576208",
   "metadata": {},
   "outputs": [
    {
     "data": {
      "text/plain": [
       "Timestamp('2019-12-22 17:23:45')"
      ]
     },
     "execution_count": 43,
     "metadata": {},
     "output_type": "execute_result"
    }
   ],
   "source": [
    "pd.Timestamp('2019-12-22 5:23:45 PM')"
   ]
  },
  {
   "cell_type": "markdown",
   "id": "19d34d6b",
   "metadata": {},
   "source": [
    "### Pandas DateTimeIndex"
   ]
  },
  {
   "cell_type": "code",
   "execution_count": 44,
   "id": "d74a7fc2",
   "metadata": {},
   "outputs": [
    {
     "data": {
      "text/plain": [
       "['2019/12/22', '2019/12/23', '2019/12/24']"
      ]
     },
     "execution_count": 44,
     "metadata": {},
     "output_type": "execute_result"
    }
   ],
   "source": [
    "dates=['2019/12/22','2019/12/23','2019/12/24']\n",
    "dates"
   ]
  },
  {
   "cell_type": "code",
   "execution_count": 45,
   "id": "5f9d9bfa",
   "metadata": {},
   "outputs": [
    {
     "data": {
      "text/plain": [
       "DatetimeIndex(['2019-12-22', '2019-12-23', '2019-12-24'], dtype='datetime64[ns]', freq=None)"
      ]
     },
     "execution_count": 45,
     "metadata": {},
     "output_type": "execute_result"
    }
   ],
   "source": [
    "pd_date=pd.DatetimeIndex(dates)\n",
    "pd_date"
   ]
  },
  {
   "cell_type": "code",
   "execution_count": 46,
   "id": "269741ac",
   "metadata": {},
   "outputs": [
    {
     "data": {
      "text/plain": [
       "list"
      ]
     },
     "execution_count": 46,
     "metadata": {},
     "output_type": "execute_result"
    }
   ],
   "source": [
    "type(dates)"
   ]
  },
  {
   "cell_type": "code",
   "execution_count": 47,
   "id": "58dd7937",
   "metadata": {},
   "outputs": [
    {
     "data": {
      "text/plain": [
       "pandas.core.indexes.datetimes.DatetimeIndex"
      ]
     },
     "execution_count": 47,
     "metadata": {},
     "output_type": "execute_result"
    }
   ],
   "source": [
    "type(pd_date)"
   ]
  },
  {
   "cell_type": "code",
   "execution_count": 48,
   "id": "831c5c27",
   "metadata": {},
   "outputs": [],
   "source": [
    "date=[dt.date(2019,12,22),dt.date(2019,12,23),dt.date(2019,12,24)]"
   ]
  },
  {
   "cell_type": "code",
   "execution_count": 49,
   "id": "928763fa",
   "metadata": {},
   "outputs": [
    {
     "data": {
      "text/plain": [
       "[datetime.date(2019, 12, 22),\n",
       " datetime.date(2019, 12, 23),\n",
       " datetime.date(2019, 12, 24)]"
      ]
     },
     "execution_count": 49,
     "metadata": {},
     "output_type": "execute_result"
    }
   ],
   "source": [
    "date"
   ]
  },
  {
   "cell_type": "code",
   "execution_count": 50,
   "id": "f8020f75",
   "metadata": {},
   "outputs": [],
   "source": [
    "dateIndex=pd.DatetimeIndex(date)"
   ]
  },
  {
   "cell_type": "code",
   "execution_count": 51,
   "id": "32fc5413",
   "metadata": {},
   "outputs": [
    {
     "data": {
      "text/plain": [
       "DatetimeIndex(['2019-12-22', '2019-12-23', '2019-12-24'], dtype='datetime64[ns]', freq=None)"
      ]
     },
     "execution_count": 51,
     "metadata": {},
     "output_type": "execute_result"
    }
   ],
   "source": [
    "dateIndex"
   ]
  },
  {
   "cell_type": "code",
   "execution_count": 52,
   "id": "e32b8224",
   "metadata": {},
   "outputs": [
    {
     "data": {
      "text/plain": [
       "2019-12-22    12\n",
       "2019-12-23    13\n",
       "2019-12-24    10\n",
       "dtype: int64"
      ]
     },
     "execution_count": 52,
     "metadata": {},
     "output_type": "execute_result"
    }
   ],
   "source": [
    "values=[12,13,10]\n",
    "pd_se=pd.Series(data=values,index=dateIndex)\n",
    "pd_se"
   ]
  },
  {
   "cell_type": "markdown",
   "id": "0c550348",
   "metadata": {},
   "source": [
    "### pd.to_datetime()"
   ]
  },
  {
   "cell_type": "code",
   "execution_count": 53,
   "id": "63044fb4",
   "metadata": {},
   "outputs": [
    {
     "data": {
      "text/plain": [
       "Timestamp('2019-12-22 00:00:00')"
      ]
     },
     "execution_count": 53,
     "metadata": {},
     "output_type": "execute_result"
    }
   ],
   "source": [
    "pd.to_datetime('2019/12/22')"
   ]
  },
  {
   "cell_type": "code",
   "execution_count": 54,
   "id": "2a246d5e",
   "metadata": {},
   "outputs": [
    {
     "data": {
      "text/plain": [
       "Timestamp('2019-12-22 00:00:00')"
      ]
     },
     "execution_count": 54,
     "metadata": {},
     "output_type": "execute_result"
    }
   ],
   "source": [
    "pd.to_datetime(dt.date(2019,12,22))"
   ]
  },
  {
   "cell_type": "code",
   "execution_count": 55,
   "id": "e4d640bc",
   "metadata": {},
   "outputs": [
    {
     "data": {
      "text/plain": [
       "Timestamp('2019-12-22 17:23:45')"
      ]
     },
     "execution_count": 55,
     "metadata": {},
     "output_type": "execute_result"
    }
   ],
   "source": [
    "pd.to_datetime(dt.datetime(2019,12,22,17,23,45))"
   ]
  },
  {
   "cell_type": "code",
   "execution_count": 56,
   "id": "ac080e6e",
   "metadata": {},
   "outputs": [
    {
     "data": {
      "text/plain": [
       "DatetimeIndex(['2019-12-22', '2019-12-23', '2019-12-24'], dtype='datetime64[ns]', freq=None)"
      ]
     },
     "execution_count": 56,
     "metadata": {},
     "output_type": "execute_result"
    }
   ],
   "source": [
    "dates=['2019/12/22','2019/12/23','2019/12/24']\n",
    "pd.to_datetime(dates)"
   ]
  },
  {
   "cell_type": "code",
   "execution_count": 57,
   "id": "0d606d7c",
   "metadata": {},
   "outputs": [
    {
     "data": {
      "text/plain": [
       "0    December 22nd, 2019\n",
       "1           2019, 12 ,22\n",
       "2           This is Date\n",
       "3         Dec 23rd, 2019\n",
       "dtype: object"
      ]
     },
     "execution_count": 57,
     "metadata": {},
     "output_type": "execute_result"
    }
   ],
   "source": [
    "dates=pd.Series(['December 22nd, 2019', '2019, 12 ,22','This is Date','Dec 23rd, 2019'])\n",
    "dates"
   ]
  },
  {
   "cell_type": "code",
   "execution_count": 58,
   "id": "96452f29",
   "metadata": {},
   "outputs": [
    {
     "data": {
      "text/plain": [
       "0   2019-12-22\n",
       "1   2019-12-22\n",
       "2          NaT\n",
       "3   2019-12-23\n",
       "dtype: datetime64[ns]"
      ]
     },
     "execution_count": 58,
     "metadata": {},
     "output_type": "execute_result"
    }
   ],
   "source": [
    "pd.to_datetime(dates,errors='coerce')"
   ]
  },
  {
   "cell_type": "code",
   "execution_count": 59,
   "id": "e18787e7",
   "metadata": {},
   "outputs": [],
   "source": [
    "unixtime=[1234563,2343245,23435,4352324]"
   ]
  },
  {
   "cell_type": "code",
   "execution_count": 60,
   "id": "f8660732",
   "metadata": {},
   "outputs": [
    {
     "data": {
      "text/plain": [
       "DatetimeIndex(['1970-01-15 06:56:03', '1970-01-28 02:54:05',\n",
       "               '1970-01-01 06:30:35', '1970-02-20 08:58:44'],\n",
       "              dtype='datetime64[ns]', freq=None)"
      ]
     },
     "execution_count": 60,
     "metadata": {},
     "output_type": "execute_result"
    }
   ],
   "source": [
    "pd.to_datetime(unixtime,unit='s')"
   ]
  },
  {
   "cell_type": "markdown",
   "id": "4867caa1",
   "metadata": {},
   "source": [
    "### Create Range in the form of Date ``pd.date_range()``"
   ]
  },
  {
   "cell_type": "code",
   "execution_count": 72,
   "id": "3ca3d8da",
   "metadata": {},
   "outputs": [],
   "source": [
    "times=pd.date_range(start='2019-12-22', end='2020-12-22',freq='D')"
   ]
  },
  {
   "cell_type": "code",
   "execution_count": 73,
   "id": "63e8226a",
   "metadata": {},
   "outputs": [
    {
     "data": {
      "text/plain": [
       "DatetimeIndex(['2019-12-22', '2019-12-23', '2019-12-24', '2019-12-25',\n",
       "               '2019-12-26', '2019-12-27', '2019-12-28', '2019-12-29',\n",
       "               '2019-12-30', '2019-12-31',\n",
       "               ...\n",
       "               '2020-12-13', '2020-12-14', '2020-12-15', '2020-12-16',\n",
       "               '2020-12-17', '2020-12-18', '2020-12-19', '2020-12-20',\n",
       "               '2020-12-21', '2020-12-22'],\n",
       "              dtype='datetime64[ns]', length=367, freq='D')"
      ]
     },
     "execution_count": 73,
     "metadata": {},
     "output_type": "execute_result"
    }
   ],
   "source": [
    "times"
   ]
  },
  {
   "cell_type": "code",
   "execution_count": 74,
   "id": "1b614ad0",
   "metadata": {},
   "outputs": [],
   "source": [
    "times=pd.date_range(start='2019-12-22', end='2020-12-22',freq='3W')"
   ]
  },
  {
   "cell_type": "code",
   "execution_count": 75,
   "id": "331d70b2",
   "metadata": {},
   "outputs": [
    {
     "data": {
      "text/plain": [
       "DatetimeIndex(['2019-12-22', '2020-01-12', '2020-02-02', '2020-02-23',\n",
       "               '2020-03-15', '2020-04-05', '2020-04-26', '2020-05-17',\n",
       "               '2020-06-07', '2020-06-28', '2020-07-19', '2020-08-09',\n",
       "               '2020-08-30', '2020-09-20', '2020-10-11', '2020-11-01',\n",
       "               '2020-11-22', '2020-12-13'],\n",
       "              dtype='datetime64[ns]', freq='3W-SUN')"
      ]
     },
     "execution_count": 75,
     "metadata": {},
     "output_type": "execute_result"
    }
   ],
   "source": [
    "times"
   ]
  },
  {
   "cell_type": "code",
   "execution_count": 76,
   "id": "7d033ec5",
   "metadata": {},
   "outputs": [],
   "source": [
    "times=pd.date_range(start='2019-12-22', end='2020-12-22',freq='5H')"
   ]
  },
  {
   "cell_type": "code",
   "execution_count": 77,
   "id": "0a172a3a",
   "metadata": {},
   "outputs": [
    {
     "data": {
      "text/plain": [
       "DatetimeIndex(['2019-12-22 00:00:00', '2019-12-22 05:00:00',\n",
       "               '2019-12-22 10:00:00', '2019-12-22 15:00:00',\n",
       "               '2019-12-22 20:00:00', '2019-12-23 01:00:00',\n",
       "               '2019-12-23 06:00:00', '2019-12-23 11:00:00',\n",
       "               '2019-12-23 16:00:00', '2019-12-23 21:00:00',\n",
       "               ...\n",
       "               '2020-12-19 23:00:00', '2020-12-20 04:00:00',\n",
       "               '2020-12-20 09:00:00', '2020-12-20 14:00:00',\n",
       "               '2020-12-20 19:00:00', '2020-12-21 00:00:00',\n",
       "               '2020-12-21 05:00:00', '2020-12-21 10:00:00',\n",
       "               '2020-12-21 15:00:00', '2020-12-21 20:00:00'],\n",
       "              dtype='datetime64[ns]', length=1757, freq='5H')"
      ]
     },
     "execution_count": 77,
     "metadata": {},
     "output_type": "execute_result"
    }
   ],
   "source": [
    "times"
   ]
  },
  {
   "cell_type": "markdown",
   "id": "a1a6d37b",
   "metadata": {},
   "source": [
    "## Import Stock Data using `datareader`"
   ]
  },
  {
   "cell_type": "code",
   "execution_count": 80,
   "id": "8873cddc",
   "metadata": {},
   "outputs": [],
   "source": [
    "from pandas_datareader import data"
   ]
  },
  {
   "cell_type": "code",
   "execution_count": 81,
   "id": "4fc2dc6f",
   "metadata": {},
   "outputs": [],
   "source": [
    "# !pip install pandas_datareader"
   ]
  },
  {
   "cell_type": "code",
   "execution_count": 82,
   "id": "50dc4134",
   "metadata": {},
   "outputs": [],
   "source": [
    "company='MSFT'\n",
    "start='24-10-2020'\n",
    "end='24-10-22'"
   ]
  },
  {
   "cell_type": "code",
   "execution_count": 84,
   "id": "7c03b667",
   "metadata": {},
   "outputs": [
    {
     "name": "stderr",
     "output_type": "stream",
     "text": [
      "C:\\Users\\Atul\\anaconda3\\lib\\site-packages\\pandas_datareader\\_utils.py:33: UserWarning: Parsing '24-10-2020' in DD/MM/YYYY format. Provide format or specify infer_datetime_format=True for consistent parsing.\n",
      "  start = to_datetime(start)\n"
     ]
    }
   ],
   "source": [
    "stocks=data.DataReader(name=company,data_source='yahoo',start=start,end=end)"
   ]
  },
  {
   "cell_type": "code",
   "execution_count": 85,
   "id": "6ada63d3",
   "metadata": {},
   "outputs": [
    {
     "data": {
      "text/html": [
       "<div>\n",
       "<style scoped>\n",
       "    .dataframe tbody tr th:only-of-type {\n",
       "        vertical-align: middle;\n",
       "    }\n",
       "\n",
       "    .dataframe tbody tr th {\n",
       "        vertical-align: top;\n",
       "    }\n",
       "\n",
       "    .dataframe thead th {\n",
       "        text-align: right;\n",
       "    }\n",
       "</style>\n",
       "<table border=\"1\" class=\"dataframe\">\n",
       "  <thead>\n",
       "    <tr style=\"text-align: right;\">\n",
       "      <th></th>\n",
       "      <th>High</th>\n",
       "      <th>Low</th>\n",
       "      <th>Open</th>\n",
       "      <th>Close</th>\n",
       "      <th>Volume</th>\n",
       "      <th>Adj Close</th>\n",
       "    </tr>\n",
       "    <tr>\n",
       "      <th>Date</th>\n",
       "      <th></th>\n",
       "      <th></th>\n",
       "      <th></th>\n",
       "      <th></th>\n",
       "      <th></th>\n",
       "      <th></th>\n",
       "    </tr>\n",
       "  </thead>\n",
       "  <tbody>\n",
       "    <tr>\n",
       "      <th>2020-10-23</th>\n",
       "      <td>216.279999</td>\n",
       "      <td>213.160004</td>\n",
       "      <td>215.029999</td>\n",
       "      <td>216.229996</td>\n",
       "      <td>18879600.0</td>\n",
       "      <td>212.484344</td>\n",
       "    </tr>\n",
       "    <tr>\n",
       "      <th>2020-10-26</th>\n",
       "      <td>216.339996</td>\n",
       "      <td>208.100006</td>\n",
       "      <td>213.850006</td>\n",
       "      <td>210.080002</td>\n",
       "      <td>37111600.0</td>\n",
       "      <td>206.440872</td>\n",
       "    </tr>\n",
       "    <tr>\n",
       "      <th>2020-10-27</th>\n",
       "      <td>214.669998</td>\n",
       "      <td>210.330002</td>\n",
       "      <td>211.589996</td>\n",
       "      <td>213.250000</td>\n",
       "      <td>36700300.0</td>\n",
       "      <td>209.555969</td>\n",
       "    </tr>\n",
       "    <tr>\n",
       "      <th>2020-10-28</th>\n",
       "      <td>208.839996</td>\n",
       "      <td>202.100006</td>\n",
       "      <td>207.669998</td>\n",
       "      <td>202.679993</td>\n",
       "      <td>51195600.0</td>\n",
       "      <td>199.169083</td>\n",
       "    </tr>\n",
       "    <tr>\n",
       "      <th>2020-10-29</th>\n",
       "      <td>207.360001</td>\n",
       "      <td>203.369995</td>\n",
       "      <td>204.070007</td>\n",
       "      <td>204.720001</td>\n",
       "      <td>31432600.0</td>\n",
       "      <td>201.173737</td>\n",
       "    </tr>\n",
       "    <tr>\n",
       "      <th>...</th>\n",
       "      <td>...</td>\n",
       "      <td>...</td>\n",
       "      <td>...</td>\n",
       "      <td>...</td>\n",
       "      <td>...</td>\n",
       "      <td>...</td>\n",
       "    </tr>\n",
       "    <tr>\n",
       "      <th>2022-10-17</th>\n",
       "      <td>238.960007</td>\n",
       "      <td>235.139999</td>\n",
       "      <td>235.820007</td>\n",
       "      <td>237.529999</td>\n",
       "      <td>28142300.0</td>\n",
       "      <td>237.529999</td>\n",
       "    </tr>\n",
       "    <tr>\n",
       "      <th>2022-10-18</th>\n",
       "      <td>243.929993</td>\n",
       "      <td>235.369995</td>\n",
       "      <td>243.240005</td>\n",
       "      <td>238.500000</td>\n",
       "      <td>26329600.0</td>\n",
       "      <td>238.500000</td>\n",
       "    </tr>\n",
       "    <tr>\n",
       "      <th>2022-10-19</th>\n",
       "      <td>239.610001</td>\n",
       "      <td>234.289993</td>\n",
       "      <td>237.039993</td>\n",
       "      <td>236.479996</td>\n",
       "      <td>19985700.0</td>\n",
       "      <td>236.479996</td>\n",
       "    </tr>\n",
       "    <tr>\n",
       "      <th>2022-10-20</th>\n",
       "      <td>241.309998</td>\n",
       "      <td>234.869995</td>\n",
       "      <td>235.770004</td>\n",
       "      <td>236.149994</td>\n",
       "      <td>21811000.0</td>\n",
       "      <td>236.149994</td>\n",
       "    </tr>\n",
       "    <tr>\n",
       "      <th>2022-10-21</th>\n",
       "      <td>243.000000</td>\n",
       "      <td>234.500000</td>\n",
       "      <td>234.740005</td>\n",
       "      <td>242.119995</td>\n",
       "      <td>26280900.0</td>\n",
       "      <td>242.119995</td>\n",
       "    </tr>\n",
       "  </tbody>\n",
       "</table>\n",
       "<p>503 rows × 6 columns</p>\n",
       "</div>"
      ],
      "text/plain": [
       "                  High         Low        Open       Close      Volume  \\\n",
       "Date                                                                     \n",
       "2020-10-23  216.279999  213.160004  215.029999  216.229996  18879600.0   \n",
       "2020-10-26  216.339996  208.100006  213.850006  210.080002  37111600.0   \n",
       "2020-10-27  214.669998  210.330002  211.589996  213.250000  36700300.0   \n",
       "2020-10-28  208.839996  202.100006  207.669998  202.679993  51195600.0   \n",
       "2020-10-29  207.360001  203.369995  204.070007  204.720001  31432600.0   \n",
       "...                ...         ...         ...         ...         ...   \n",
       "2022-10-17  238.960007  235.139999  235.820007  237.529999  28142300.0   \n",
       "2022-10-18  243.929993  235.369995  243.240005  238.500000  26329600.0   \n",
       "2022-10-19  239.610001  234.289993  237.039993  236.479996  19985700.0   \n",
       "2022-10-20  241.309998  234.869995  235.770004  236.149994  21811000.0   \n",
       "2022-10-21  243.000000  234.500000  234.740005  242.119995  26280900.0   \n",
       "\n",
       "             Adj Close  \n",
       "Date                    \n",
       "2020-10-23  212.484344  \n",
       "2020-10-26  206.440872  \n",
       "2020-10-27  209.555969  \n",
       "2020-10-28  199.169083  \n",
       "2020-10-29  201.173737  \n",
       "...                ...  \n",
       "2022-10-17  237.529999  \n",
       "2022-10-18  238.500000  \n",
       "2022-10-19  236.479996  \n",
       "2022-10-20  236.149994  \n",
       "2022-10-21  242.119995  \n",
       "\n",
       "[503 rows x 6 columns]"
      ]
     },
     "execution_count": 85,
     "metadata": {},
     "output_type": "execute_result"
    }
   ],
   "source": [
    "stocks"
   ]
  },
  {
   "cell_type": "code",
   "execution_count": 93,
   "id": "6c3dd290",
   "metadata": {},
   "outputs": [
    {
     "data": {
      "text/plain": [
       "241.30999755859375"
      ]
     },
     "execution_count": 93,
     "metadata": {},
     "output_type": "execute_result"
    }
   ],
   "source": [
    "stocks.loc['2022-10-20']['High']"
   ]
  },
  {
   "cell_type": "code",
   "execution_count": 92,
   "id": "1b853146",
   "metadata": {},
   "outputs": [
    {
     "data": {
      "text/plain": [
       "High         2.413100e+02\n",
       "Low          2.348700e+02\n",
       "Open         2.357700e+02\n",
       "Close        2.361500e+02\n",
       "Volume       2.181100e+07\n",
       "Adj Close    2.361500e+02\n",
       "Name: 2022-10-20 00:00:00, dtype: float64"
      ]
     },
     "execution_count": 92,
     "metadata": {},
     "output_type": "execute_result"
    }
   ],
   "source": [
    "stocks.iloc[501]"
   ]
  },
  {
   "cell_type": "code",
   "execution_count": 95,
   "id": "2cfe31d9",
   "metadata": {},
   "outputs": [
    {
     "data": {
      "text/html": [
       "<div>\n",
       "<style scoped>\n",
       "    .dataframe tbody tr th:only-of-type {\n",
       "        vertical-align: middle;\n",
       "    }\n",
       "\n",
       "    .dataframe tbody tr th {\n",
       "        vertical-align: top;\n",
       "    }\n",
       "\n",
       "    .dataframe thead th {\n",
       "        text-align: right;\n",
       "    }\n",
       "</style>\n",
       "<table border=\"1\" class=\"dataframe\">\n",
       "  <thead>\n",
       "    <tr style=\"text-align: right;\">\n",
       "      <th></th>\n",
       "      <th>High</th>\n",
       "      <th>Low</th>\n",
       "      <th>Open</th>\n",
       "      <th>Close</th>\n",
       "      <th>Volume</th>\n",
       "      <th>Adj Close</th>\n",
       "    </tr>\n",
       "    <tr>\n",
       "      <th>Date</th>\n",
       "      <th></th>\n",
       "      <th></th>\n",
       "      <th></th>\n",
       "      <th></th>\n",
       "      <th></th>\n",
       "      <th></th>\n",
       "    </tr>\n",
       "  </thead>\n",
       "  <tbody>\n",
       "    <tr>\n",
       "      <th>2020-12-01</th>\n",
       "      <td>217.320007</td>\n",
       "      <td>213.350006</td>\n",
       "      <td>214.509995</td>\n",
       "      <td>216.210007</td>\n",
       "      <td>30904500.0</td>\n",
       "      <td>213.020950</td>\n",
       "    </tr>\n",
       "    <tr>\n",
       "      <th>2020-12-02</th>\n",
       "      <td>215.470001</td>\n",
       "      <td>212.800003</td>\n",
       "      <td>214.880005</td>\n",
       "      <td>215.369995</td>\n",
       "      <td>23724500.0</td>\n",
       "      <td>212.193344</td>\n",
       "    </tr>\n",
       "    <tr>\n",
       "      <th>2020-12-03</th>\n",
       "      <td>216.380005</td>\n",
       "      <td>213.649994</td>\n",
       "      <td>214.610001</td>\n",
       "      <td>214.240005</td>\n",
       "      <td>25120900.0</td>\n",
       "      <td>211.080002</td>\n",
       "    </tr>\n",
       "    <tr>\n",
       "      <th>2020-12-04</th>\n",
       "      <td>215.380005</td>\n",
       "      <td>213.179993</td>\n",
       "      <td>214.220001</td>\n",
       "      <td>214.360001</td>\n",
       "      <td>24666000.0</td>\n",
       "      <td>211.198242</td>\n",
       "    </tr>\n",
       "    <tr>\n",
       "      <th>2020-12-07</th>\n",
       "      <td>215.539993</td>\n",
       "      <td>212.990005</td>\n",
       "      <td>214.369995</td>\n",
       "      <td>214.289993</td>\n",
       "      <td>24620000.0</td>\n",
       "      <td>211.129242</td>\n",
       "    </tr>\n",
       "    <tr>\n",
       "      <th>...</th>\n",
       "      <td>...</td>\n",
       "      <td>...</td>\n",
       "      <td>...</td>\n",
       "      <td>...</td>\n",
       "      <td>...</td>\n",
       "      <td>...</td>\n",
       "    </tr>\n",
       "    <tr>\n",
       "      <th>2022-03-28</th>\n",
       "      <td>310.799988</td>\n",
       "      <td>304.329987</td>\n",
       "      <td>304.329987</td>\n",
       "      <td>310.700012</td>\n",
       "      <td>29578200.0</td>\n",
       "      <td>309.321472</td>\n",
       "    </tr>\n",
       "    <tr>\n",
       "      <th>2022-03-29</th>\n",
       "      <td>315.820007</td>\n",
       "      <td>309.049988</td>\n",
       "      <td>313.910004</td>\n",
       "      <td>315.410004</td>\n",
       "      <td>30393400.0</td>\n",
       "      <td>314.010590</td>\n",
       "    </tr>\n",
       "    <tr>\n",
       "      <th>2022-03-30</th>\n",
       "      <td>315.950012</td>\n",
       "      <td>311.579987</td>\n",
       "      <td>313.760010</td>\n",
       "      <td>313.859985</td>\n",
       "      <td>28163600.0</td>\n",
       "      <td>312.467438</td>\n",
       "    </tr>\n",
       "    <tr>\n",
       "      <th>2022-03-31</th>\n",
       "      <td>315.140015</td>\n",
       "      <td>307.890015</td>\n",
       "      <td>313.899994</td>\n",
       "      <td>308.309998</td>\n",
       "      <td>33422100.0</td>\n",
       "      <td>306.942047</td>\n",
       "    </tr>\n",
       "    <tr>\n",
       "      <th>2022-04-01</th>\n",
       "      <td>310.130005</td>\n",
       "      <td>305.540009</td>\n",
       "      <td>309.369995</td>\n",
       "      <td>309.420013</td>\n",
       "      <td>27110500.0</td>\n",
       "      <td>308.047150</td>\n",
       "    </tr>\n",
       "  </tbody>\n",
       "</table>\n",
       "<p>337 rows × 6 columns</p>\n",
       "</div>"
      ],
      "text/plain": [
       "                  High         Low        Open       Close      Volume  \\\n",
       "Date                                                                     \n",
       "2020-12-01  217.320007  213.350006  214.509995  216.210007  30904500.0   \n",
       "2020-12-02  215.470001  212.800003  214.880005  215.369995  23724500.0   \n",
       "2020-12-03  216.380005  213.649994  214.610001  214.240005  25120900.0   \n",
       "2020-12-04  215.380005  213.179993  214.220001  214.360001  24666000.0   \n",
       "2020-12-07  215.539993  212.990005  214.369995  214.289993  24620000.0   \n",
       "...                ...         ...         ...         ...         ...   \n",
       "2022-03-28  310.799988  304.329987  304.329987  310.700012  29578200.0   \n",
       "2022-03-29  315.820007  309.049988  313.910004  315.410004  30393400.0   \n",
       "2022-03-30  315.950012  311.579987  313.760010  313.859985  28163600.0   \n",
       "2022-03-31  315.140015  307.890015  313.899994  308.309998  33422100.0   \n",
       "2022-04-01  310.130005  305.540009  309.369995  309.420013  27110500.0   \n",
       "\n",
       "             Adj Close  \n",
       "Date                    \n",
       "2020-12-01  213.020950  \n",
       "2020-12-02  212.193344  \n",
       "2020-12-03  211.080002  \n",
       "2020-12-04  211.198242  \n",
       "2020-12-07  211.129242  \n",
       "...                ...  \n",
       "2022-03-28  309.321472  \n",
       "2022-03-29  314.010590  \n",
       "2022-03-30  312.467438  \n",
       "2022-03-31  306.942047  \n",
       "2022-04-01  308.047150  \n",
       "\n",
       "[337 rows x 6 columns]"
      ]
     },
     "execution_count": 95,
     "metadata": {},
     "output_type": "execute_result"
    }
   ],
   "source": [
    "stocks.loc['2020-12-1':'2022-4-3']"
   ]
  },
  {
   "cell_type": "code",
   "execution_count": 96,
   "id": "b498915f",
   "metadata": {},
   "outputs": [
    {
     "data": {
      "text/html": [
       "<div>\n",
       "<style scoped>\n",
       "    .dataframe tbody tr th:only-of-type {\n",
       "        vertical-align: middle;\n",
       "    }\n",
       "\n",
       "    .dataframe tbody tr th {\n",
       "        vertical-align: top;\n",
       "    }\n",
       "\n",
       "    .dataframe thead th {\n",
       "        text-align: right;\n",
       "    }\n",
       "</style>\n",
       "<table border=\"1\" class=\"dataframe\">\n",
       "  <thead>\n",
       "    <tr style=\"text-align: right;\">\n",
       "      <th></th>\n",
       "      <th>High</th>\n",
       "      <th>Low</th>\n",
       "      <th>Open</th>\n",
       "      <th>Close</th>\n",
       "      <th>Volume</th>\n",
       "      <th>Adj Close</th>\n",
       "    </tr>\n",
       "    <tr>\n",
       "      <th>Date</th>\n",
       "      <th></th>\n",
       "      <th></th>\n",
       "      <th></th>\n",
       "      <th></th>\n",
       "      <th></th>\n",
       "      <th></th>\n",
       "    </tr>\n",
       "  </thead>\n",
       "  <tbody>\n",
       "    <tr>\n",
       "      <th>2020-12-01</th>\n",
       "      <td>217.320007</td>\n",
       "      <td>213.350006</td>\n",
       "      <td>214.509995</td>\n",
       "      <td>216.210007</td>\n",
       "      <td>30904500.0</td>\n",
       "      <td>213.020950</td>\n",
       "    </tr>\n",
       "    <tr>\n",
       "      <th>2020-12-02</th>\n",
       "      <td>215.470001</td>\n",
       "      <td>212.800003</td>\n",
       "      <td>214.880005</td>\n",
       "      <td>215.369995</td>\n",
       "      <td>23724500.0</td>\n",
       "      <td>212.193344</td>\n",
       "    </tr>\n",
       "    <tr>\n",
       "      <th>2020-12-03</th>\n",
       "      <td>216.380005</td>\n",
       "      <td>213.649994</td>\n",
       "      <td>214.610001</td>\n",
       "      <td>214.240005</td>\n",
       "      <td>25120900.0</td>\n",
       "      <td>211.080002</td>\n",
       "    </tr>\n",
       "    <tr>\n",
       "      <th>2020-12-04</th>\n",
       "      <td>215.380005</td>\n",
       "      <td>213.179993</td>\n",
       "      <td>214.220001</td>\n",
       "      <td>214.360001</td>\n",
       "      <td>24666000.0</td>\n",
       "      <td>211.198242</td>\n",
       "    </tr>\n",
       "    <tr>\n",
       "      <th>2020-12-07</th>\n",
       "      <td>215.539993</td>\n",
       "      <td>212.990005</td>\n",
       "      <td>214.369995</td>\n",
       "      <td>214.289993</td>\n",
       "      <td>24620000.0</td>\n",
       "      <td>211.129242</td>\n",
       "    </tr>\n",
       "    <tr>\n",
       "      <th>...</th>\n",
       "      <td>...</td>\n",
       "      <td>...</td>\n",
       "      <td>...</td>\n",
       "      <td>...</td>\n",
       "      <td>...</td>\n",
       "      <td>...</td>\n",
       "    </tr>\n",
       "    <tr>\n",
       "      <th>2022-03-28</th>\n",
       "      <td>310.799988</td>\n",
       "      <td>304.329987</td>\n",
       "      <td>304.329987</td>\n",
       "      <td>310.700012</td>\n",
       "      <td>29578200.0</td>\n",
       "      <td>309.321472</td>\n",
       "    </tr>\n",
       "    <tr>\n",
       "      <th>2022-03-29</th>\n",
       "      <td>315.820007</td>\n",
       "      <td>309.049988</td>\n",
       "      <td>313.910004</td>\n",
       "      <td>315.410004</td>\n",
       "      <td>30393400.0</td>\n",
       "      <td>314.010590</td>\n",
       "    </tr>\n",
       "    <tr>\n",
       "      <th>2022-03-30</th>\n",
       "      <td>315.950012</td>\n",
       "      <td>311.579987</td>\n",
       "      <td>313.760010</td>\n",
       "      <td>313.859985</td>\n",
       "      <td>28163600.0</td>\n",
       "      <td>312.467438</td>\n",
       "    </tr>\n",
       "    <tr>\n",
       "      <th>2022-03-31</th>\n",
       "      <td>315.140015</td>\n",
       "      <td>307.890015</td>\n",
       "      <td>313.899994</td>\n",
       "      <td>308.309998</td>\n",
       "      <td>33422100.0</td>\n",
       "      <td>306.942047</td>\n",
       "    </tr>\n",
       "    <tr>\n",
       "      <th>2022-04-01</th>\n",
       "      <td>310.130005</td>\n",
       "      <td>305.540009</td>\n",
       "      <td>309.369995</td>\n",
       "      <td>309.420013</td>\n",
       "      <td>27110500.0</td>\n",
       "      <td>308.047150</td>\n",
       "    </tr>\n",
       "  </tbody>\n",
       "</table>\n",
       "<p>337 rows × 6 columns</p>\n",
       "</div>"
      ],
      "text/plain": [
       "                  High         Low        Open       Close      Volume  \\\n",
       "Date                                                                     \n",
       "2020-12-01  217.320007  213.350006  214.509995  216.210007  30904500.0   \n",
       "2020-12-02  215.470001  212.800003  214.880005  215.369995  23724500.0   \n",
       "2020-12-03  216.380005  213.649994  214.610001  214.240005  25120900.0   \n",
       "2020-12-04  215.380005  213.179993  214.220001  214.360001  24666000.0   \n",
       "2020-12-07  215.539993  212.990005  214.369995  214.289993  24620000.0   \n",
       "...                ...         ...         ...         ...         ...   \n",
       "2022-03-28  310.799988  304.329987  304.329987  310.700012  29578200.0   \n",
       "2022-03-29  315.820007  309.049988  313.910004  315.410004  30393400.0   \n",
       "2022-03-30  315.950012  311.579987  313.760010  313.859985  28163600.0   \n",
       "2022-03-31  315.140015  307.890015  313.899994  308.309998  33422100.0   \n",
       "2022-04-01  310.130005  305.540009  309.369995  309.420013  27110500.0   \n",
       "\n",
       "             Adj Close  \n",
       "Date                    \n",
       "2020-12-01  213.020950  \n",
       "2020-12-02  212.193344  \n",
       "2020-12-03  211.080002  \n",
       "2020-12-04  211.198242  \n",
       "2020-12-07  211.129242  \n",
       "...                ...  \n",
       "2022-03-28  309.321472  \n",
       "2022-03-29  314.010590  \n",
       "2022-03-30  312.467438  \n",
       "2022-03-31  306.942047  \n",
       "2022-04-01  308.047150  \n",
       "\n",
       "[337 rows x 6 columns]"
      ]
     },
     "execution_count": 96,
     "metadata": {},
     "output_type": "execute_result"
    }
   ],
   "source": [
    "stocks.truncate(before='2020-12-1',after='2022-4-3')"
   ]
  },
  {
   "cell_type": "markdown",
   "id": "22faf116",
   "metadata": {},
   "source": [
    "## @TimeDelta@"
   ]
  },
  {
   "cell_type": "code",
   "execution_count": 97,
   "id": "0ba9df6f",
   "metadata": {},
   "outputs": [],
   "source": [
    "timeA=pd.Timestamp('2019-12-22 17:23:34')\n",
    "timeB=pd.Timestamp('2019-12-23 19:23:34')"
   ]
  },
  {
   "cell_type": "code",
   "execution_count": 98,
   "id": "ab6439b0",
   "metadata": {},
   "outputs": [
    {
     "data": {
      "text/plain": [
       "Timedelta('1 days 02:00:00')"
      ]
     },
     "execution_count": 98,
     "metadata": {},
     "output_type": "execute_result"
    }
   ],
   "source": [
    "timeB-timeA"
   ]
  },
  {
   "cell_type": "code",
   "execution_count": 100,
   "id": "ba6be486",
   "metadata": {},
   "outputs": [
    {
     "data": {
      "text/plain": [
       "Timedelta('72 days 03:23:00')"
      ]
     },
     "execution_count": 100,
     "metadata": {},
     "output_type": "execute_result"
    }
   ],
   "source": [
    "pd.Timedelta(weeks=10,days=2,hours=3,minutes=23)"
   ]
  },
  {
   "cell_type": "code",
   "execution_count": null,
   "id": "fb50e011",
   "metadata": {},
   "outputs": [],
   "source": []
  }
 ],
 "metadata": {
  "kernelspec": {
   "display_name": "Python 3 (ipykernel)",
   "language": "python",
   "name": "python3"
  },
  "language_info": {
   "codemirror_mode": {
    "name": "ipython",
    "version": 3
   },
   "file_extension": ".py",
   "mimetype": "text/x-python",
   "name": "python",
   "nbconvert_exporter": "python",
   "pygments_lexer": "ipython3",
   "version": "3.9.13"
  }
 },
 "nbformat": 4,
 "nbformat_minor": 5
}
