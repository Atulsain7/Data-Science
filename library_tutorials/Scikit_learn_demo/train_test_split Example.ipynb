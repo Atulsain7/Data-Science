{
 "cells": [
  {
   "cell_type": "markdown",
   "id": "14431c8b",
   "metadata": {},
   "source": [
    "# train_test split"
   ]
  },
  {
   "cell_type": "markdown",
   "id": "65b1b9b3",
   "metadata": {},
   "source": [
    "## Import the relevent libraries"
   ]
  },
  {
   "cell_type": "code",
   "execution_count": 1,
   "id": "a5eab885",
   "metadata": {},
   "outputs": [],
   "source": [
    "from sklearn.model_selection import train_test_split \n",
    "import numpy as np"
   ]
  },
  {
   "cell_type": "markdown",
   "id": "58f0c425",
   "metadata": {},
   "source": [
    "## Generate some data we are going to split"
   ]
  },
  {
   "cell_type": "code",
   "execution_count": 2,
   "id": "569543ab",
   "metadata": {},
   "outputs": [],
   "source": [
    "a=np.arange(1,101)"
   ]
  },
  {
   "cell_type": "code",
   "execution_count": 3,
   "id": "d0931c73",
   "metadata": {},
   "outputs": [
    {
     "data": {
      "text/plain": [
       "array([  1,   2,   3,   4,   5,   6,   7,   8,   9,  10,  11,  12,  13,\n",
       "        14,  15,  16,  17,  18,  19,  20,  21,  22,  23,  24,  25,  26,\n",
       "        27,  28,  29,  30,  31,  32,  33,  34,  35,  36,  37,  38,  39,\n",
       "        40,  41,  42,  43,  44,  45,  46,  47,  48,  49,  50,  51,  52,\n",
       "        53,  54,  55,  56,  57,  58,  59,  60,  61,  62,  63,  64,  65,\n",
       "        66,  67,  68,  69,  70,  71,  72,  73,  74,  75,  76,  77,  78,\n",
       "        79,  80,  81,  82,  83,  84,  85,  86,  87,  88,  89,  90,  91,\n",
       "        92,  93,  94,  95,  96,  97,  98,  99, 100])"
      ]
     },
     "execution_count": 3,
     "metadata": {},
     "output_type": "execute_result"
    }
   ],
   "source": [
    "a"
   ]
  },
  {
   "cell_type": "code",
   "execution_count": 4,
   "id": "32cc95de",
   "metadata": {},
   "outputs": [
    {
     "data": {
      "text/plain": [
       "array([501, 502, 503, 504, 505, 506, 507, 508, 509, 510, 511, 512, 513,\n",
       "       514, 515, 516, 517, 518, 519, 520, 521, 522, 523, 524, 525, 526,\n",
       "       527, 528, 529, 530, 531, 532, 533, 534, 535, 536, 537, 538, 539,\n",
       "       540, 541, 542, 543, 544, 545, 546, 547, 548, 549, 550, 551, 552,\n",
       "       553, 554, 555, 556, 557, 558, 559, 560, 561, 562, 563, 564, 565,\n",
       "       566, 567, 568, 569, 570, 571, 572, 573, 574, 575, 576, 577, 578,\n",
       "       579, 580, 581, 582, 583, 584, 585, 586, 587, 588, 589, 590, 591,\n",
       "       592, 593, 594, 595, 596, 597, 598, 599, 600])"
      ]
     },
     "execution_count": 4,
     "metadata": {},
     "output_type": "execute_result"
    }
   ],
   "source": [
    "b=np.arange(501,601)\n",
    "b"
   ]
  },
  {
   "cell_type": "markdown",
   "id": "6f060ab8",
   "metadata": {},
   "source": [
    "## Split the data"
   ]
  },
  {
   "cell_type": "code",
   "execution_count": 5,
   "id": "f130a8ea",
   "metadata": {},
   "outputs": [],
   "source": [
    "a_train,a_test,b_train,b_test=train_test_split(a,b,shuffle=True,test_size=0.15) #randomstate=xxx, used for keeping shuffle constant."
   ]
  },
  {
   "cell_type": "code",
   "execution_count": 6,
   "id": "3637010e",
   "metadata": {},
   "outputs": [
    {
     "data": {
      "text/plain": [
       "(array([53, 54, 24,  8, 96, 36, 80,  9, 62, 71, 33, 78, 76, 21, 90, 69, 99,\n",
       "        30, 89, 35, 26, 23, 50, 92, 81, 93, 79, 66,  1, 58,  4, 40, 91, 55,\n",
       "        82, 83, 32,  3, 41, 31, 11, 52,  7, 49, 19, 28, 44, 47,  2, 73, 13,\n",
       "        20, 65, 75, 14, 56, 63, 12, 98, 34, 43, 94, 29, 57, 64, 86, 18, 85,\n",
       "        46,  5, 38, 15,  6, 59, 95, 48, 77, 42, 84, 61, 74, 88, 60, 16, 10]),\n",
       " (85,))"
      ]
     },
     "execution_count": 6,
     "metadata": {},
     "output_type": "execute_result"
    }
   ],
   "source": [
    "a_train,a_train.shape"
   ]
  },
  {
   "cell_type": "code",
   "execution_count": 7,
   "id": "771c0182",
   "metadata": {},
   "outputs": [
    {
     "data": {
      "text/plain": [
       "(array([ 51,  70,  67,  68,  97, 100,  22,  27,  17,  87,  37,  45,  25,\n",
       "         39,  72]),\n",
       " (15,))"
      ]
     },
     "execution_count": 7,
     "metadata": {},
     "output_type": "execute_result"
    }
   ],
   "source": [
    "a_test,a_test.shape"
   ]
  },
  {
   "cell_type": "code",
   "execution_count": 8,
   "id": "dfdc71f7",
   "metadata": {},
   "outputs": [
    {
     "data": {
      "text/plain": [
       "array([553, 554, 524, 508, 596, 536, 580, 509, 562, 571, 533, 578, 576,\n",
       "       521, 590, 569, 599, 530, 589, 535, 526, 523, 550, 592, 581, 593,\n",
       "       579, 566, 501, 558, 504, 540, 591, 555, 582, 583, 532, 503, 541,\n",
       "       531, 511, 552, 507, 549, 519, 528, 544, 547, 502, 573, 513, 520,\n",
       "       565, 575, 514, 556, 563, 512, 598, 534, 543, 594, 529, 557, 564,\n",
       "       586, 518, 585, 546, 505, 538, 515, 506, 559, 595, 548, 577, 542,\n",
       "       584, 561, 574, 588, 560, 516, 510])"
      ]
     },
     "execution_count": 8,
     "metadata": {},
     "output_type": "execute_result"
    }
   ],
   "source": [
    "b_train"
   ]
  },
  {
   "cell_type": "code",
   "execution_count": 9,
   "id": "d8b7cc41",
   "metadata": {},
   "outputs": [
    {
     "data": {
      "text/plain": [
       "array([551, 570, 567, 568, 597, 600, 522, 527, 517, 587, 537, 545, 525,\n",
       "       539, 572])"
      ]
     },
     "execution_count": 9,
     "metadata": {},
     "output_type": "execute_result"
    }
   ],
   "source": [
    "b_test"
   ]
  },
  {
   "cell_type": "code",
   "execution_count": null,
   "id": "a136eb8b",
   "metadata": {},
   "outputs": [],
   "source": []
  }
 ],
 "metadata": {
  "kernelspec": {
   "display_name": "Python 3 (ipykernel)",
   "language": "python",
   "name": "python3"
  },
  "language_info": {
   "codemirror_mode": {
    "name": "ipython",
    "version": 3
   },
   "file_extension": ".py",
   "mimetype": "text/x-python",
   "name": "python",
   "nbconvert_exporter": "python",
   "pygments_lexer": "ipython3",
   "version": "3.9.12"
  }
 },
 "nbformat": 4,
 "nbformat_minor": 5
}
