{
 "cells": [
  {
   "cell_type": "markdown",
   "id": "e2a9c1fa",
   "metadata": {},
   "source": [
    "> # <font color='red'>CROSS VALIDATION<font>"
   ]
  },
  {
   "cell_type": "markdown",
   "id": "008e1341",
   "metadata": {},
   "source": [
    "***"
   ]
  },
  {
   "cell_type": "markdown",
   "id": "5a3b5a77",
   "metadata": {},
   "source": [
    "**We are going to practice 5 types of cross validation techniques<br>**\n",
    "\n",
    "**1. K-fold CV**<br>\n",
    "**2. Bootstrap sampling**<br>\n",
    "**3. LOO CV-Leave one out**<br>\n",
    "**4. GridSearch CV**<br>\n",
    "**5. RandomSerch CV**"
   ]
  },
  {
   "cell_type": "markdown",
   "id": "04e4b84a",
   "metadata": {},
   "source": [
    "<font color='red'>**1. KFold CV**<font>"
   ]
  },
  {
   "cell_type": "code",
   "execution_count": 1,
   "id": "8b092890",
   "metadata": {},
   "outputs": [],
   "source": [
    "# Importing relevent libraries\n",
    "\n",
    "from pandas import read_csv\n",
    "from sklearn.model_selection import train_test_split, KFold, cross_val_score\n",
    "from sklearn.linear_model import LogisticRegression\n",
    "\n",
    "import numpy as np\n",
    "\n",
    "import warnings                      #just for knowledge,use is not recommanded\n",
    "warnings.filterwarnings('ignore')"
   ]
  },
  {
   "cell_type": "code",
   "execution_count": 2,
   "id": "72c38cbb",
   "metadata": {},
   "outputs": [
    {
     "data": {
      "text/html": [
       "<div>\n",
       "<style scoped>\n",
       "    .dataframe tbody tr th:only-of-type {\n",
       "        vertical-align: middle;\n",
       "    }\n",
       "\n",
       "    .dataframe tbody tr th {\n",
       "        vertical-align: top;\n",
       "    }\n",
       "\n",
       "    .dataframe thead th {\n",
       "        text-align: right;\n",
       "    }\n",
       "</style>\n",
       "<table border=\"1\" class=\"dataframe\">\n",
       "  <thead>\n",
       "    <tr style=\"text-align: right;\">\n",
       "      <th></th>\n",
       "      <th>Preg</th>\n",
       "      <th>Plas</th>\n",
       "      <th>Pres</th>\n",
       "      <th>skin</th>\n",
       "      <th>test</th>\n",
       "      <th>mass</th>\n",
       "      <th>pedi</th>\n",
       "      <th>age</th>\n",
       "      <th>class</th>\n",
       "    </tr>\n",
       "  </thead>\n",
       "  <tbody>\n",
       "    <tr>\n",
       "      <th>0</th>\n",
       "      <td>6</td>\n",
       "      <td>148</td>\n",
       "      <td>72</td>\n",
       "      <td>35</td>\n",
       "      <td>0</td>\n",
       "      <td>33.6</td>\n",
       "      <td>0.627</td>\n",
       "      <td>50</td>\n",
       "      <td>1</td>\n",
       "    </tr>\n",
       "    <tr>\n",
       "      <th>1</th>\n",
       "      <td>1</td>\n",
       "      <td>85</td>\n",
       "      <td>66</td>\n",
       "      <td>29</td>\n",
       "      <td>0</td>\n",
       "      <td>26.6</td>\n",
       "      <td>0.351</td>\n",
       "      <td>31</td>\n",
       "      <td>0</td>\n",
       "    </tr>\n",
       "    <tr>\n",
       "      <th>2</th>\n",
       "      <td>8</td>\n",
       "      <td>183</td>\n",
       "      <td>64</td>\n",
       "      <td>0</td>\n",
       "      <td>0</td>\n",
       "      <td>23.3</td>\n",
       "      <td>0.672</td>\n",
       "      <td>32</td>\n",
       "      <td>1</td>\n",
       "    </tr>\n",
       "    <tr>\n",
       "      <th>3</th>\n",
       "      <td>1</td>\n",
       "      <td>89</td>\n",
       "      <td>66</td>\n",
       "      <td>23</td>\n",
       "      <td>94</td>\n",
       "      <td>28.1</td>\n",
       "      <td>0.167</td>\n",
       "      <td>21</td>\n",
       "      <td>0</td>\n",
       "    </tr>\n",
       "    <tr>\n",
       "      <th>4</th>\n",
       "      <td>0</td>\n",
       "      <td>137</td>\n",
       "      <td>40</td>\n",
       "      <td>35</td>\n",
       "      <td>168</td>\n",
       "      <td>43.1</td>\n",
       "      <td>2.288</td>\n",
       "      <td>33</td>\n",
       "      <td>1</td>\n",
       "    </tr>\n",
       "  </tbody>\n",
       "</table>\n",
       "</div>"
      ],
      "text/plain": [
       "   Preg  Plas  Pres  skin  test  mass   pedi  age  class\n",
       "0     6   148    72    35     0  33.6  0.627   50      1\n",
       "1     1    85    66    29     0  26.6  0.351   31      0\n",
       "2     8   183    64     0     0  23.3  0.672   32      1\n",
       "3     1    89    66    23    94  28.1  0.167   21      0\n",
       "4     0   137    40    35   168  43.1  2.288   33      1"
      ]
     },
     "execution_count": 2,
     "metadata": {},
     "output_type": "execute_result"
    }
   ],
   "source": [
    "df=read_csv(r'D:\\Datasets\\12.pima-indians-diabetes.csv')\n",
    "df.head()"
   ]
  },
  {
   "cell_type": "code",
   "execution_count": 3,
   "id": "7dd17731",
   "metadata": {},
   "outputs": [
    {
     "data": {
      "text/plain": [
       "(768, 9)"
      ]
     },
     "execution_count": 3,
     "metadata": {},
     "output_type": "execute_result"
    }
   ],
   "source": [
    "df.shape"
   ]
  },
  {
   "cell_type": "code",
   "execution_count": 4,
   "id": "2258fc1e",
   "metadata": {},
   "outputs": [
    {
     "data": {
      "text/plain": [
       "Preg     0\n",
       "Plas     0\n",
       "Pres     0\n",
       "skin     0\n",
       "test     0\n",
       "mass     0\n",
       "pedi     0\n",
       "age      0\n",
       "class    0\n",
       "dtype: int64"
      ]
     },
     "execution_count": 4,
     "metadata": {},
     "output_type": "execute_result"
    }
   ],
   "source": [
    "df.isnull().sum() #There is no null value"
   ]
  },
  {
   "cell_type": "code",
   "execution_count": 5,
   "id": "5264e603",
   "metadata": {},
   "outputs": [],
   "source": [
    "X=df.drop('class',axis=1)\n",
    "Y=df['class']"
   ]
  },
  {
   "cell_type": "markdown",
   "id": "9f675815",
   "metadata": {},
   "source": [
    "- **KFold-** divides the datasets in K parts, keeps K-1 for training and 1 for test. and it create K sets where \n",
    " Training set is changed every time, thats why we will see K no of results. Sampling is without replacement in this method (No repetition of data).\n",
    "\n",
    "- **cross_val_score-**it will give accuracy score for each set to cross validation."
   ]
  },
  {
   "cell_type": "code",
   "execution_count": 6,
   "id": "350fb3b8",
   "metadata": {},
   "outputs": [
    {
     "name": "stdout",
     "output_type": "stream",
     "text": [
      "[0.82051282 0.87179487 0.76923077 0.71794872 0.82051282 0.74358974\n",
      " 0.84615385 0.71794872 0.78947368 0.84210526 0.76315789 0.76315789\n",
      " 0.52631579 0.76315789 0.84210526 0.76315789 0.86842105 0.78947368\n",
      " 0.78947368 0.68421053]\n",
      "============================================================\n",
      "Result Summary\n",
      "Mean Accuracy: 77.46%, Accuracy Deviation:7.59%\n"
     ]
    }
   ],
   "source": [
    "K=20 # No of folds # so I am using 19 parts for training and 1 part for validation\n",
    "seed=7 # Random state\n",
    "\n",
    "kfold=KFold(n_splits=K,shuffle=True,random_state=seed)                #KFold declairation\n",
    "\n",
    "model=LogisticRegression(max_iter=1000,tol=0.001)                     #model declairation, we are using Logistic regression\n",
    "\n",
    "results=cross_val_score(model,X,Y,cv=kfold)\n",
    "print(results)\n",
    "print('============================================================')\n",
    "print('Result Summary')\n",
    "print('Mean Accuracy: %.2f%%, Accuracy Deviation:%.2f%%'%(results.mean()*100,results.std()*100)) # Printing result Summary"
   ]
  },
  {
   "cell_type": "markdown",
   "id": "00e3d155",
   "metadata": {},
   "source": [
    "<font color='red'>**2. Bootstrap Sampling**<font>"
   ]
  },
  {
   "cell_type": "markdown",
   "id": "b8f5238f",
   "metadata": {},
   "source": [
    "- In my opinion worst method of sampling, It basically randomly resample train data and send rest of data in validation data"
   ]
  },
  {
   "cell_type": "code",
   "execution_count": 7,
   "id": "c4577af3",
   "metadata": {},
   "outputs": [
    {
     "name": "stdout",
     "output_type": "stream",
     "text": [
      "Train data:  [3, 1, 2, 8, 4, 10, 6, 6, 3]   |   Test data:  [5 7 9]\n",
      "Train data:  [8, 1, 1, 3, 3, 6, 9, 8, 8]   |   Test data:  [ 2  4  5  7 10]\n",
      "Train data:  [8, 1, 2, 8, 10, 1, 5, 9, 3]   |   Test data:  [4 6 7]\n",
      "Train data:  [6, 2, 10, 3, 2, 5, 9, 5, 1]   |   Test data:  [4 7 8]\n",
      "Train data:  [5, 5, 4, 7, 4, 6, 9, 4, 4]   |   Test data:  [ 1  2  3  8 10]\n",
      "Train data:  [6, 3, 5, 2, 3, 2, 2, 10, 5]   |   Test data:  [1 4 7 8 9]\n",
      "Train data:  [10, 10, 10, 1, 4, 2, 5, 6, 9]   |   Test data:  [3 7 8]\n",
      "Train data:  [6, 10, 6, 1, 8, 4, 7, 9, 7]   |   Test data:  [2 3 5]\n",
      "Train data:  [6, 10, 2, 1, 1, 4, 3, 4, 6]   |   Test data:  [5 7 8 9]\n",
      "Train data:  [3, 5, 4, 5, 5, 9, 5, 7, 3]   |   Test data:  [ 1  2  6  8 10]\n"
     ]
    }
   ],
   "source": [
    "#This line of code is just for demonstration of its function\n",
    "\n",
    "from sklearn.utils import resample\n",
    "\n",
    "data=[1,2,3,4,5,6,7,8,9,10]\n",
    "n_iterations=10\n",
    "n_size=int(len(data)-1)\n",
    "\n",
    "for i in range(n_iterations):\n",
    "    train=resample(data,n_samples=n_size)\n",
    "    test=np.array([x for x in data if x not in train])\n",
    "    print('Train data: ',train,'  |  ','Test data: ',test)"
   ]
  },
  {
   "cell_type": "code",
   "execution_count": 8,
   "id": "f0c9b663",
   "metadata": {},
   "outputs": [],
   "source": [
    "from sklearn.ensemble import RandomForestClassifier\n",
    "from sklearn.metrics import accuracy_score\n",
    "from matplotlib import pyplot\n",
    "import pandas as pd\n",
    "\n",
    "from sklearn.datasets import load_iris"
   ]
  },
  {
   "cell_type": "code",
   "execution_count": 9,
   "id": "e7325c4e",
   "metadata": {},
   "outputs": [],
   "source": [
    "iris=load_iris()"
   ]
  },
  {
   "cell_type": "code",
   "execution_count": 10,
   "id": "13980e63",
   "metadata": {},
   "outputs": [
    {
     "data": {
      "text/plain": [
       "['sepal length (cm)',\n",
       " 'sepal width (cm)',\n",
       " 'petal length (cm)',\n",
       " 'petal width (cm)']"
      ]
     },
     "execution_count": 10,
     "metadata": {},
     "output_type": "execute_result"
    }
   ],
   "source": [
    "iris.feature_names"
   ]
  },
  {
   "cell_type": "code",
   "execution_count": 11,
   "id": "8e0df339",
   "metadata": {},
   "outputs": [
    {
     "data": {
      "text/plain": [
       "array(['setosa', 'versicolor', 'virginica'], dtype='<U10')"
      ]
     },
     "execution_count": 11,
     "metadata": {},
     "output_type": "execute_result"
    }
   ],
   "source": [
    "iris.target_names"
   ]
  },
  {
   "cell_type": "code",
   "execution_count": 12,
   "id": "8788d442",
   "metadata": {},
   "outputs": [
    {
     "name": "stdout",
     "output_type": "stream",
     "text": [
      ".. _iris_dataset:\n",
      "\n",
      "Iris plants dataset\n",
      "--------------------\n",
      "\n",
      "**Data Set Characteristics:**\n",
      "\n",
      "    :Number of Instances: 150 (50 in each of three classes)\n",
      "    :Number of Attributes: 4 numeric, predictive attributes and the class\n",
      "    :Attribute Information:\n",
      "        - sepal length in cm\n",
      "        - sepal width in cm\n",
      "        - petal length in cm\n",
      "        - petal width in cm\n",
      "        - class:\n",
      "                - Iris-Setosa\n",
      "                - Iris-Versicolour\n",
      "                - Iris-Virginica\n",
      "                \n",
      "    :Summary Statistics:\n",
      "\n",
      "    ============== ==== ==== ======= ===== ====================\n",
      "                    Min  Max   Mean    SD   Class Correlation\n",
      "    ============== ==== ==== ======= ===== ====================\n",
      "    sepal length:   4.3  7.9   5.84   0.83    0.7826\n",
      "    sepal width:    2.0  4.4   3.05   0.43   -0.4194\n",
      "    petal length:   1.0  6.9   3.76   1.76    0.9490  (high!)\n",
      "    petal width:    0.1  2.5   1.20   0.76    0.9565  (high!)\n",
      "    ============== ==== ==== ======= ===== ====================\n",
      "\n",
      "    :Missing Attribute Values: None\n",
      "    :Class Distribution: 33.3% for each of 3 classes.\n",
      "    :Creator: R.A. Fisher\n",
      "    :Donor: Michael Marshall (MARSHALL%PLU@io.arc.nasa.gov)\n",
      "    :Date: July, 1988\n",
      "\n",
      "The famous Iris database, first used by Sir R.A. Fisher. The dataset is taken\n",
      "from Fisher's paper. Note that it's the same as in R, but not as in the UCI\n",
      "Machine Learning Repository, which has two wrong data points.\n",
      "\n",
      "This is perhaps the best known database to be found in the\n",
      "pattern recognition literature.  Fisher's paper is a classic in the field and\n",
      "is referenced frequently to this day.  (See Duda & Hart, for example.)  The\n",
      "data set contains 3 classes of 50 instances each, where each class refers to a\n",
      "type of iris plant.  One class is linearly separable from the other 2; the\n",
      "latter are NOT linearly separable from each other.\n",
      "\n",
      ".. topic:: References\n",
      "\n",
      "   - Fisher, R.A. \"The use of multiple measurements in taxonomic problems\"\n",
      "     Annual Eugenics, 7, Part II, 179-188 (1936); also in \"Contributions to\n",
      "     Mathematical Statistics\" (John Wiley, NY, 1950).\n",
      "   - Duda, R.O., & Hart, P.E. (1973) Pattern Classification and Scene Analysis.\n",
      "     (Q327.D83) John Wiley & Sons.  ISBN 0-471-22361-1.  See page 218.\n",
      "   - Dasarathy, B.V. (1980) \"Nosing Around the Neighborhood: A New System\n",
      "     Structure and Classification Rule for Recognition in Partially Exposed\n",
      "     Environments\".  IEEE Transactions on Pattern Analysis and Machine\n",
      "     Intelligence, Vol. PAMI-2, No. 1, 67-71.\n",
      "   - Gates, G.W. (1972) \"The Reduced Nearest Neighbor Rule\".  IEEE Transactions\n",
      "     on Information Theory, May 1972, 431-433.\n",
      "   - See also: 1988 MLC Proceedings, 54-64.  Cheeseman et al\"s AUTOCLASS II\n",
      "     conceptual clustering system finds 3 classes in the data.\n",
      "   - Many, many more ...\n"
     ]
    }
   ],
   "source": [
    "print(iris.DESCR)"
   ]
  },
  {
   "cell_type": "code",
   "execution_count": 13,
   "id": "cad4e6b1",
   "metadata": {},
   "outputs": [
    {
     "data": {
      "text/plain": [
       "sklearn.utils.Bunch"
      ]
     },
     "execution_count": 13,
     "metadata": {},
     "output_type": "execute_result"
    }
   ],
   "source": [
    "type(iris)"
   ]
  },
  {
   "cell_type": "code",
   "execution_count": 14,
   "id": "8f641e6d",
   "metadata": {},
   "outputs": [
    {
     "data": {
      "text/html": [
       "<div>\n",
       "<style scoped>\n",
       "    .dataframe tbody tr th:only-of-type {\n",
       "        vertical-align: middle;\n",
       "    }\n",
       "\n",
       "    .dataframe tbody tr th {\n",
       "        vertical-align: top;\n",
       "    }\n",
       "\n",
       "    .dataframe thead th {\n",
       "        text-align: right;\n",
       "    }\n",
       "</style>\n",
       "<table border=\"1\" class=\"dataframe\">\n",
       "  <thead>\n",
       "    <tr style=\"text-align: right;\">\n",
       "      <th></th>\n",
       "      <th>sepal length (cm)</th>\n",
       "      <th>sepal width (cm)</th>\n",
       "      <th>petal length (cm)</th>\n",
       "      <th>petal width (cm)</th>\n",
       "      <th>target</th>\n",
       "    </tr>\n",
       "  </thead>\n",
       "  <tbody>\n",
       "    <tr>\n",
       "      <th>0</th>\n",
       "      <td>5.1</td>\n",
       "      <td>3.5</td>\n",
       "      <td>1.4</td>\n",
       "      <td>0.2</td>\n",
       "      <td>0.0</td>\n",
       "    </tr>\n",
       "    <tr>\n",
       "      <th>1</th>\n",
       "      <td>4.9</td>\n",
       "      <td>3.0</td>\n",
       "      <td>1.4</td>\n",
       "      <td>0.2</td>\n",
       "      <td>0.0</td>\n",
       "    </tr>\n",
       "    <tr>\n",
       "      <th>2</th>\n",
       "      <td>4.7</td>\n",
       "      <td>3.2</td>\n",
       "      <td>1.3</td>\n",
       "      <td>0.2</td>\n",
       "      <td>0.0</td>\n",
       "    </tr>\n",
       "    <tr>\n",
       "      <th>3</th>\n",
       "      <td>4.6</td>\n",
       "      <td>3.1</td>\n",
       "      <td>1.5</td>\n",
       "      <td>0.2</td>\n",
       "      <td>0.0</td>\n",
       "    </tr>\n",
       "    <tr>\n",
       "      <th>4</th>\n",
       "      <td>5.0</td>\n",
       "      <td>3.6</td>\n",
       "      <td>1.4</td>\n",
       "      <td>0.2</td>\n",
       "      <td>0.0</td>\n",
       "    </tr>\n",
       "    <tr>\n",
       "      <th>...</th>\n",
       "      <td>...</td>\n",
       "      <td>...</td>\n",
       "      <td>...</td>\n",
       "      <td>...</td>\n",
       "      <td>...</td>\n",
       "    </tr>\n",
       "    <tr>\n",
       "      <th>145</th>\n",
       "      <td>6.7</td>\n",
       "      <td>3.0</td>\n",
       "      <td>5.2</td>\n",
       "      <td>2.3</td>\n",
       "      <td>2.0</td>\n",
       "    </tr>\n",
       "    <tr>\n",
       "      <th>146</th>\n",
       "      <td>6.3</td>\n",
       "      <td>2.5</td>\n",
       "      <td>5.0</td>\n",
       "      <td>1.9</td>\n",
       "      <td>2.0</td>\n",
       "    </tr>\n",
       "    <tr>\n",
       "      <th>147</th>\n",
       "      <td>6.5</td>\n",
       "      <td>3.0</td>\n",
       "      <td>5.2</td>\n",
       "      <td>2.0</td>\n",
       "      <td>2.0</td>\n",
       "    </tr>\n",
       "    <tr>\n",
       "      <th>148</th>\n",
       "      <td>6.2</td>\n",
       "      <td>3.4</td>\n",
       "      <td>5.4</td>\n",
       "      <td>2.3</td>\n",
       "      <td>2.0</td>\n",
       "    </tr>\n",
       "    <tr>\n",
       "      <th>149</th>\n",
       "      <td>5.9</td>\n",
       "      <td>3.0</td>\n",
       "      <td>5.1</td>\n",
       "      <td>1.8</td>\n",
       "      <td>2.0</td>\n",
       "    </tr>\n",
       "  </tbody>\n",
       "</table>\n",
       "<p>150 rows × 5 columns</p>\n",
       "</div>"
      ],
      "text/plain": [
       "     sepal length (cm)  sepal width (cm)  petal length (cm)  petal width (cm)  \\\n",
       "0                  5.1               3.5                1.4               0.2   \n",
       "1                  4.9               3.0                1.4               0.2   \n",
       "2                  4.7               3.2                1.3               0.2   \n",
       "3                  4.6               3.1                1.5               0.2   \n",
       "4                  5.0               3.6                1.4               0.2   \n",
       "..                 ...               ...                ...               ...   \n",
       "145                6.7               3.0                5.2               2.3   \n",
       "146                6.3               2.5                5.0               1.9   \n",
       "147                6.5               3.0                5.2               2.0   \n",
       "148                6.2               3.4                5.4               2.3   \n",
       "149                5.9               3.0                5.1               1.8   \n",
       "\n",
       "     target  \n",
       "0       0.0  \n",
       "1       0.0  \n",
       "2       0.0  \n",
       "3       0.0  \n",
       "4       0.0  \n",
       "..      ...  \n",
       "145     2.0  \n",
       "146     2.0  \n",
       "147     2.0  \n",
       "148     2.0  \n",
       "149     2.0  \n",
       "\n",
       "[150 rows x 5 columns]"
      ]
     },
     "execution_count": 14,
     "metadata": {},
     "output_type": "execute_result"
    }
   ],
   "source": [
    "# Convering from Bunch to Complete dataset\n",
    "df = pd.DataFrame(data= np.c_[iris['data'], iris['target']],\n",
    "                     columns= iris['feature_names'] + ['target'])\n",
    "\n",
    "df"
   ]
  },
  {
   "cell_type": "code",
   "execution_count": 15,
   "id": "a49c437e",
   "metadata": {},
   "outputs": [],
   "source": [
    "df['target']=df['target'].map({0:'setosa', 1:'versicolor', 2:'virginica'})"
   ]
  },
  {
   "cell_type": "code",
   "execution_count": 16,
   "id": "111a85ad",
   "metadata": {},
   "outputs": [
    {
     "data": {
      "text/html": [
       "<div>\n",
       "<style scoped>\n",
       "    .dataframe tbody tr th:only-of-type {\n",
       "        vertical-align: middle;\n",
       "    }\n",
       "\n",
       "    .dataframe tbody tr th {\n",
       "        vertical-align: top;\n",
       "    }\n",
       "\n",
       "    .dataframe thead th {\n",
       "        text-align: right;\n",
       "    }\n",
       "</style>\n",
       "<table border=\"1\" class=\"dataframe\">\n",
       "  <thead>\n",
       "    <tr style=\"text-align: right;\">\n",
       "      <th></th>\n",
       "      <th>sepal length (cm)</th>\n",
       "      <th>sepal width (cm)</th>\n",
       "      <th>petal length (cm)</th>\n",
       "      <th>petal width (cm)</th>\n",
       "      <th>target</th>\n",
       "    </tr>\n",
       "  </thead>\n",
       "  <tbody>\n",
       "    <tr>\n",
       "      <th>0</th>\n",
       "      <td>5.1</td>\n",
       "      <td>3.5</td>\n",
       "      <td>1.4</td>\n",
       "      <td>0.2</td>\n",
       "      <td>setosa</td>\n",
       "    </tr>\n",
       "    <tr>\n",
       "      <th>1</th>\n",
       "      <td>4.9</td>\n",
       "      <td>3.0</td>\n",
       "      <td>1.4</td>\n",
       "      <td>0.2</td>\n",
       "      <td>setosa</td>\n",
       "    </tr>\n",
       "    <tr>\n",
       "      <th>2</th>\n",
       "      <td>4.7</td>\n",
       "      <td>3.2</td>\n",
       "      <td>1.3</td>\n",
       "      <td>0.2</td>\n",
       "      <td>setosa</td>\n",
       "    </tr>\n",
       "    <tr>\n",
       "      <th>3</th>\n",
       "      <td>4.6</td>\n",
       "      <td>3.1</td>\n",
       "      <td>1.5</td>\n",
       "      <td>0.2</td>\n",
       "      <td>setosa</td>\n",
       "    </tr>\n",
       "    <tr>\n",
       "      <th>4</th>\n",
       "      <td>5.0</td>\n",
       "      <td>3.6</td>\n",
       "      <td>1.4</td>\n",
       "      <td>0.2</td>\n",
       "      <td>setosa</td>\n",
       "    </tr>\n",
       "    <tr>\n",
       "      <th>...</th>\n",
       "      <td>...</td>\n",
       "      <td>...</td>\n",
       "      <td>...</td>\n",
       "      <td>...</td>\n",
       "      <td>...</td>\n",
       "    </tr>\n",
       "    <tr>\n",
       "      <th>145</th>\n",
       "      <td>6.7</td>\n",
       "      <td>3.0</td>\n",
       "      <td>5.2</td>\n",
       "      <td>2.3</td>\n",
       "      <td>virginica</td>\n",
       "    </tr>\n",
       "    <tr>\n",
       "      <th>146</th>\n",
       "      <td>6.3</td>\n",
       "      <td>2.5</td>\n",
       "      <td>5.0</td>\n",
       "      <td>1.9</td>\n",
       "      <td>virginica</td>\n",
       "    </tr>\n",
       "    <tr>\n",
       "      <th>147</th>\n",
       "      <td>6.5</td>\n",
       "      <td>3.0</td>\n",
       "      <td>5.2</td>\n",
       "      <td>2.0</td>\n",
       "      <td>virginica</td>\n",
       "    </tr>\n",
       "    <tr>\n",
       "      <th>148</th>\n",
       "      <td>6.2</td>\n",
       "      <td>3.4</td>\n",
       "      <td>5.4</td>\n",
       "      <td>2.3</td>\n",
       "      <td>virginica</td>\n",
       "    </tr>\n",
       "    <tr>\n",
       "      <th>149</th>\n",
       "      <td>5.9</td>\n",
       "      <td>3.0</td>\n",
       "      <td>5.1</td>\n",
       "      <td>1.8</td>\n",
       "      <td>virginica</td>\n",
       "    </tr>\n",
       "  </tbody>\n",
       "</table>\n",
       "<p>150 rows × 5 columns</p>\n",
       "</div>"
      ],
      "text/plain": [
       "     sepal length (cm)  sepal width (cm)  petal length (cm)  petal width (cm)  \\\n",
       "0                  5.1               3.5                1.4               0.2   \n",
       "1                  4.9               3.0                1.4               0.2   \n",
       "2                  4.7               3.2                1.3               0.2   \n",
       "3                  4.6               3.1                1.5               0.2   \n",
       "4                  5.0               3.6                1.4               0.2   \n",
       "..                 ...               ...                ...               ...   \n",
       "145                6.7               3.0                5.2               2.3   \n",
       "146                6.3               2.5                5.0               1.9   \n",
       "147                6.5               3.0                5.2               2.0   \n",
       "148                6.2               3.4                5.4               2.3   \n",
       "149                5.9               3.0                5.1               1.8   \n",
       "\n",
       "        target  \n",
       "0       setosa  \n",
       "1       setosa  \n",
       "2       setosa  \n",
       "3       setosa  \n",
       "4       setosa  \n",
       "..         ...  \n",
       "145  virginica  \n",
       "146  virginica  \n",
       "147  virginica  \n",
       "148  virginica  \n",
       "149  virginica  \n",
       "\n",
       "[150 rows x 5 columns]"
      ]
     },
     "execution_count": 16,
     "metadata": {},
     "output_type": "execute_result"
    }
   ],
   "source": [
    "df  # Now this is in format we normally get data. So we start from here."
   ]
  },
  {
   "cell_type": "code",
   "execution_count": 17,
   "id": "e9e1b7a4",
   "metadata": {},
   "outputs": [
    {
     "name": "stdout",
     "output_type": "stream",
     "text": [
      "91.8 %\n",
      "98.53 %\n",
      "93.65 %\n",
      "93.22 %\n",
      "96.97 %\n",
      "92.42 %\n",
      "98.39 %\n",
      "96.88 %\n",
      "93.94 %\n",
      "94.12 %\n",
      "Average accuracy:  95 %\n"
     ]
    }
   ],
   "source": [
    "values=df.values                    # Converting to numpy array\n",
    "n_iterations=10                     # No of iterations                    \n",
    "n_size=int(len(df)-30)            # There are minimum 30 no of test samples, we can not select total by this method as \n",
    "scores=list()                       # .. each value is sampled after replacement.\n",
    "\n",
    "for i in range(n_iterations):\n",
    "    train=resample(values,n_samples=n_size)\n",
    "    test=np.array([x for x in values if x.tolist() not in train.tolist()])\n",
    "    \n",
    "    rfc1=RandomForestClassifier()\n",
    "    rfc1.fit(train[:,:-1],train[:,-1])\n",
    "    predictions=rfc1.predict(test[:,:-1])\n",
    "    score=accuracy_score(test[:,-1],predictions)\n",
    "    print(round(score*100,2),\"%\")\n",
    "#     print('Train data: ',train,'  |  ','Test data: ',test)\n",
    "    scores.append(score)\n",
    "    score_mean=sum(scores)/len(scores)\n",
    "print('Average accuracy: ',round(score_mean*100),'%')"
   ]
  },
  {
   "cell_type": "code",
   "execution_count": 18,
   "id": "35a1ecc9",
   "metadata": {},
   "outputs": [
    {
     "data": {
      "image/png": "[encoded data removed]",
      "text/plain": [
       "<Figure size 640x480 with 1 Axes>"
      ]
     },
     "metadata": {},
     "output_type": "display_data"
    },
    {
     "name": "stdout",
     "output_type": "stream",
     "text": [
      "95.0 confidence interval 91.9% and 98.5%\n"
     ]
    }
   ],
   "source": [
    "pyplot.hist(scores)\n",
    "pyplot.show()\n",
    "alpha=0.95\n",
    "p=((1-alpha)/2)*100              \n",
    "lower=max(0,np.percentile(scores,p))\n",
    "p=((1+alpha)/2)*100\n",
    "upper=np.percentile(scores,p)\n",
    "print('%.1f confidence interval %.1f%% and %.1f%%'%(alpha*100,lower*100,upper*100))"
   ]
  },
  {
   "cell_type": "markdown",
   "id": "ba19a360",
   "metadata": {},
   "source": [
    "<font color='red'>**3. Leave one out CV**<font> <br>\n",
    "- We use all the data for training and leave only one out for testing"
   ]
  },
  {
   "cell_type": "code",
   "execution_count": 19,
   "id": "840a3a1b",
   "metadata": {},
   "outputs": [],
   "source": [
    "from sklearn.model_selection import LeaveOneOut\n",
    "from sklearn.linear_model import LinearRegression"
   ]
  },
  {
   "cell_type": "code",
   "execution_count": 20,
   "id": "e348106e",
   "metadata": {},
   "outputs": [],
   "source": [
    "df=pd.DataFrame({'y':[6,8,12,14,14,15,17,22,24,23],\n",
    "                 'x1':[2,5,4,3,4,6,7,5,8,9],\n",
    "                 'x2':[14,12,12,13,7,8,7,4,6,5]})"
   ]
  },
  {
   "cell_type": "code",
   "execution_count": 21,
   "id": "4e073192",
   "metadata": {},
   "outputs": [
    {
     "data": {
      "text/html": [
       "<div>\n",
       "<style scoped>\n",
       "    .dataframe tbody tr th:only-of-type {\n",
       "        vertical-align: middle;\n",
       "    }\n",
       "\n",
       "    .dataframe tbody tr th {\n",
       "        vertical-align: top;\n",
       "    }\n",
       "\n",
       "    .dataframe thead th {\n",
       "        text-align: right;\n",
       "    }\n",
       "</style>\n",
       "<table border=\"1\" class=\"dataframe\">\n",
       "  <thead>\n",
       "    <tr style=\"text-align: right;\">\n",
       "      <th></th>\n",
       "      <th>y</th>\n",
       "      <th>x1</th>\n",
       "      <th>x2</th>\n",
       "    </tr>\n",
       "  </thead>\n",
       "  <tbody>\n",
       "    <tr>\n",
       "      <th>0</th>\n",
       "      <td>6</td>\n",
       "      <td>2</td>\n",
       "      <td>14</td>\n",
       "    </tr>\n",
       "    <tr>\n",
       "      <th>1</th>\n",
       "      <td>8</td>\n",
       "      <td>5</td>\n",
       "      <td>12</td>\n",
       "    </tr>\n",
       "    <tr>\n",
       "      <th>2</th>\n",
       "      <td>12</td>\n",
       "      <td>4</td>\n",
       "      <td>12</td>\n",
       "    </tr>\n",
       "    <tr>\n",
       "      <th>3</th>\n",
       "      <td>14</td>\n",
       "      <td>3</td>\n",
       "      <td>13</td>\n",
       "    </tr>\n",
       "    <tr>\n",
       "      <th>4</th>\n",
       "      <td>14</td>\n",
       "      <td>4</td>\n",
       "      <td>7</td>\n",
       "    </tr>\n",
       "    <tr>\n",
       "      <th>5</th>\n",
       "      <td>15</td>\n",
       "      <td>6</td>\n",
       "      <td>8</td>\n",
       "    </tr>\n",
       "    <tr>\n",
       "      <th>6</th>\n",
       "      <td>17</td>\n",
       "      <td>7</td>\n",
       "      <td>7</td>\n",
       "    </tr>\n",
       "    <tr>\n",
       "      <th>7</th>\n",
       "      <td>22</td>\n",
       "      <td>5</td>\n",
       "      <td>4</td>\n",
       "    </tr>\n",
       "    <tr>\n",
       "      <th>8</th>\n",
       "      <td>24</td>\n",
       "      <td>8</td>\n",
       "      <td>6</td>\n",
       "    </tr>\n",
       "    <tr>\n",
       "      <th>9</th>\n",
       "      <td>23</td>\n",
       "      <td>9</td>\n",
       "      <td>5</td>\n",
       "    </tr>\n",
       "  </tbody>\n",
       "</table>\n",
       "</div>"
      ],
      "text/plain": [
       "    y  x1  x2\n",
       "0   6   2  14\n",
       "1   8   5  12\n",
       "2  12   4  12\n",
       "3  14   3  13\n",
       "4  14   4   7\n",
       "5  15   6   8\n",
       "6  17   7   7\n",
       "7  22   5   4\n",
       "8  24   8   6\n",
       "9  23   9   5"
      ]
     },
     "execution_count": 21,
     "metadata": {},
     "output_type": "execute_result"
    }
   ],
   "source": [
    "df"
   ]
  },
  {
   "cell_type": "code",
   "execution_count": 22,
   "id": "52297a30",
   "metadata": {},
   "outputs": [],
   "source": [
    "X=df[['x1','x2']]\n",
    "Y=df['y']"
   ]
  },
  {
   "cell_type": "code",
   "execution_count": 23,
   "id": "d22e8679",
   "metadata": {},
   "outputs": [
    {
     "data": {
      "text/plain": [
       "1.144572635722584"
      ]
     },
     "execution_count": 23,
     "metadata": {},
     "output_type": "execute_result"
    }
   ],
   "source": [
    "#cross validation method\n",
    "cv=LeaveOneOut()\n",
    "\n",
    "#build multiple linear regression model\n",
    "model=LinearRegression()\n",
    "\n",
    "#use LOOCV to evaluate model\n",
    "scores=cross_val_score(model,X,Y,scoring='neg_mean_absolute_error',cv=cv,n_jobs=-1)\n",
    "\n",
    "#view RMSE\n",
    "np.sqrt(np.mean(np.absolute(scores)**2)/len(scores))"
   ]
  },
  {
   "cell_type": "code",
   "execution_count": 24,
   "id": "231c60aa",
   "metadata": {},
   "outputs": [
    {
     "data": {
      "text/plain": [
       "array([-1.7159581 , -4.91317829, -1.37391167, -6.76454294, -3.88354531,\n",
       "       -2.18982218, -2.22270204, -3.37927664, -4.43852243, -0.5800885 ])"
      ]
     },
     "execution_count": 24,
     "metadata": {},
     "output_type": "execute_result"
    }
   ],
   "source": [
    "scores # there are total 10 sets"
   ]
  },
  {
   "cell_type": "markdown",
   "id": "1146ab97",
   "metadata": {},
   "source": [
    "***"
   ]
  },
  {
   "cell_type": "markdown",
   "id": "01b4aa56",
   "metadata": {},
   "source": [
    "# <font color='blue'>**Hyperparameter Tuning**<font>\n",
    "    \n",
    "**Fine tuning the hyperparameters is done in a sequence of steps**<br><br>\n",
    "    1.Selecting the appropriate model type (regressor or classifier).<br>\n",
    "    2.Identify the correspomding parameter space.<br>\n",
    "    3.Decide the method for searching or sampling parameter space.<br>\n",
    "    4.Decide the cross validation scheme to ensure model will generalize.<br>\n",
    "    5.Decide a score function to use to evaluate the model.<br>\n",
    "<br><br>\n",
    "**Two generic approaches to search hyperparameter space include:**<br><br>\n",
    "    1.GridSearchCV which exhaustively considers all parameter combinations.<br>\n",
    "    2.RandomizedSearchCV can sample a given number of candidates from a parameter space with a specified distribution.<br><br><br>\n",
    "**Other considerations**<br><br>\n",
    "    1.While tuning hyper parameters, the data should have been split into three parts to **prevent data leak**<br>\n",
    "- training<br>\n",
    "- validation<br>\n",
    "- testing<br><br>\n",
    "\n",
    "**Note:-** First 3 techniques are used for cross validation only, next 2 are used for both cross validation and hyperparameter tuning."
   ]
  },
  {
   "cell_type": "markdown",
   "id": "6b1ca7b1",
   "metadata": {},
   "source": [
    "<font color='blue'>**4. GridSearchCV**<font>\n",
    "- It search for all of the combinations of hyper-parameter grid."
   ]
  },
  {
   "cell_type": "code",
   "execution_count": 25,
   "id": "6b84a9d4",
   "metadata": {},
   "outputs": [
    {
     "data": {
      "text/html": [
       "<div>\n",
       "<style scoped>\n",
       "    .dataframe tbody tr th:only-of-type {\n",
       "        vertical-align: middle;\n",
       "    }\n",
       "\n",
       "    .dataframe tbody tr th {\n",
       "        vertical-align: top;\n",
       "    }\n",
       "\n",
       "    .dataframe thead th {\n",
       "        text-align: right;\n",
       "    }\n",
       "</style>\n",
       "<table border=\"1\" class=\"dataframe\">\n",
       "  <thead>\n",
       "    <tr style=\"text-align: right;\">\n",
       "      <th></th>\n",
       "      <th>y</th>\n",
       "      <th>x1</th>\n",
       "      <th>x2</th>\n",
       "    </tr>\n",
       "  </thead>\n",
       "  <tbody>\n",
       "    <tr>\n",
       "      <th>0</th>\n",
       "      <td>6</td>\n",
       "      <td>2</td>\n",
       "      <td>14</td>\n",
       "    </tr>\n",
       "    <tr>\n",
       "      <th>1</th>\n",
       "      <td>8</td>\n",
       "      <td>5</td>\n",
       "      <td>12</td>\n",
       "    </tr>\n",
       "    <tr>\n",
       "      <th>2</th>\n",
       "      <td>12</td>\n",
       "      <td>4</td>\n",
       "      <td>12</td>\n",
       "    </tr>\n",
       "    <tr>\n",
       "      <th>3</th>\n",
       "      <td>14</td>\n",
       "      <td>3</td>\n",
       "      <td>13</td>\n",
       "    </tr>\n",
       "    <tr>\n",
       "      <th>4</th>\n",
       "      <td>14</td>\n",
       "      <td>4</td>\n",
       "      <td>7</td>\n",
       "    </tr>\n",
       "    <tr>\n",
       "      <th>5</th>\n",
       "      <td>15</td>\n",
       "      <td>6</td>\n",
       "      <td>8</td>\n",
       "    </tr>\n",
       "    <tr>\n",
       "      <th>6</th>\n",
       "      <td>17</td>\n",
       "      <td>7</td>\n",
       "      <td>7</td>\n",
       "    </tr>\n",
       "    <tr>\n",
       "      <th>7</th>\n",
       "      <td>22</td>\n",
       "      <td>5</td>\n",
       "      <td>4</td>\n",
       "    </tr>\n",
       "    <tr>\n",
       "      <th>8</th>\n",
       "      <td>24</td>\n",
       "      <td>8</td>\n",
       "      <td>6</td>\n",
       "    </tr>\n",
       "    <tr>\n",
       "      <th>9</th>\n",
       "      <td>23</td>\n",
       "      <td>9</td>\n",
       "      <td>5</td>\n",
       "    </tr>\n",
       "  </tbody>\n",
       "</table>\n",
       "</div>"
      ],
      "text/plain": [
       "    y  x1  x2\n",
       "0   6   2  14\n",
       "1   8   5  12\n",
       "2  12   4  12\n",
       "3  14   3  13\n",
       "4  14   4   7\n",
       "5  15   6   8\n",
       "6  17   7   7\n",
       "7  22   5   4\n",
       "8  24   8   6\n",
       "9  23   9   5"
      ]
     },
     "execution_count": 25,
     "metadata": {},
     "output_type": "execute_result"
    }
   ],
   "source": [
    "df"
   ]
  },
  {
   "cell_type": "code",
   "execution_count": 26,
   "id": "66f498c1",
   "metadata": {},
   "outputs": [
    {
     "data": {
      "text/html": [
       "<div>\n",
       "<style scoped>\n",
       "    .dataframe tbody tr th:only-of-type {\n",
       "        vertical-align: middle;\n",
       "    }\n",
       "\n",
       "    .dataframe tbody tr th {\n",
       "        vertical-align: top;\n",
       "    }\n",
       "\n",
       "    .dataframe thead th {\n",
       "        text-align: right;\n",
       "    }\n",
       "</style>\n",
       "<table border=\"1\" class=\"dataframe\">\n",
       "  <thead>\n",
       "    <tr style=\"text-align: right;\">\n",
       "      <th></th>\n",
       "      <th>Preg</th>\n",
       "      <th>Plas</th>\n",
       "      <th>Pres</th>\n",
       "      <th>skin</th>\n",
       "      <th>test</th>\n",
       "      <th>mass</th>\n",
       "      <th>pedi</th>\n",
       "      <th>age</th>\n",
       "      <th>class</th>\n",
       "    </tr>\n",
       "  </thead>\n",
       "  <tbody>\n",
       "    <tr>\n",
       "      <th>0</th>\n",
       "      <td>6</td>\n",
       "      <td>148</td>\n",
       "      <td>72</td>\n",
       "      <td>35</td>\n",
       "      <td>0</td>\n",
       "      <td>33.6</td>\n",
       "      <td>0.627</td>\n",
       "      <td>50</td>\n",
       "      <td>1</td>\n",
       "    </tr>\n",
       "    <tr>\n",
       "      <th>1</th>\n",
       "      <td>1</td>\n",
       "      <td>85</td>\n",
       "      <td>66</td>\n",
       "      <td>29</td>\n",
       "      <td>0</td>\n",
       "      <td>26.6</td>\n",
       "      <td>0.351</td>\n",
       "      <td>31</td>\n",
       "      <td>0</td>\n",
       "    </tr>\n",
       "    <tr>\n",
       "      <th>2</th>\n",
       "      <td>8</td>\n",
       "      <td>183</td>\n",
       "      <td>64</td>\n",
       "      <td>0</td>\n",
       "      <td>0</td>\n",
       "      <td>23.3</td>\n",
       "      <td>0.672</td>\n",
       "      <td>32</td>\n",
       "      <td>1</td>\n",
       "    </tr>\n",
       "    <tr>\n",
       "      <th>3</th>\n",
       "      <td>1</td>\n",
       "      <td>89</td>\n",
       "      <td>66</td>\n",
       "      <td>23</td>\n",
       "      <td>94</td>\n",
       "      <td>28.1</td>\n",
       "      <td>0.167</td>\n",
       "      <td>21</td>\n",
       "      <td>0</td>\n",
       "    </tr>\n",
       "    <tr>\n",
       "      <th>4</th>\n",
       "      <td>0</td>\n",
       "      <td>137</td>\n",
       "      <td>40</td>\n",
       "      <td>35</td>\n",
       "      <td>168</td>\n",
       "      <td>43.1</td>\n",
       "      <td>2.288</td>\n",
       "      <td>33</td>\n",
       "      <td>1</td>\n",
       "    </tr>\n",
       "    <tr>\n",
       "      <th>...</th>\n",
       "      <td>...</td>\n",
       "      <td>...</td>\n",
       "      <td>...</td>\n",
       "      <td>...</td>\n",
       "      <td>...</td>\n",
       "      <td>...</td>\n",
       "      <td>...</td>\n",
       "      <td>...</td>\n",
       "      <td>...</td>\n",
       "    </tr>\n",
       "    <tr>\n",
       "      <th>763</th>\n",
       "      <td>10</td>\n",
       "      <td>101</td>\n",
       "      <td>76</td>\n",
       "      <td>48</td>\n",
       "      <td>180</td>\n",
       "      <td>32.9</td>\n",
       "      <td>0.171</td>\n",
       "      <td>63</td>\n",
       "      <td>0</td>\n",
       "    </tr>\n",
       "    <tr>\n",
       "      <th>764</th>\n",
       "      <td>2</td>\n",
       "      <td>122</td>\n",
       "      <td>70</td>\n",
       "      <td>27</td>\n",
       "      <td>0</td>\n",
       "      <td>36.8</td>\n",
       "      <td>0.340</td>\n",
       "      <td>27</td>\n",
       "      <td>0</td>\n",
       "    </tr>\n",
       "    <tr>\n",
       "      <th>765</th>\n",
       "      <td>5</td>\n",
       "      <td>121</td>\n",
       "      <td>72</td>\n",
       "      <td>23</td>\n",
       "      <td>112</td>\n",
       "      <td>26.2</td>\n",
       "      <td>0.245</td>\n",
       "      <td>30</td>\n",
       "      <td>0</td>\n",
       "    </tr>\n",
       "    <tr>\n",
       "      <th>766</th>\n",
       "      <td>1</td>\n",
       "      <td>126</td>\n",
       "      <td>60</td>\n",
       "      <td>0</td>\n",
       "      <td>0</td>\n",
       "      <td>30.1</td>\n",
       "      <td>0.349</td>\n",
       "      <td>47</td>\n",
       "      <td>1</td>\n",
       "    </tr>\n",
       "    <tr>\n",
       "      <th>767</th>\n",
       "      <td>1</td>\n",
       "      <td>93</td>\n",
       "      <td>70</td>\n",
       "      <td>31</td>\n",
       "      <td>0</td>\n",
       "      <td>30.4</td>\n",
       "      <td>0.315</td>\n",
       "      <td>23</td>\n",
       "      <td>0</td>\n",
       "    </tr>\n",
       "  </tbody>\n",
       "</table>\n",
       "<p>768 rows × 9 columns</p>\n",
       "</div>"
      ],
      "text/plain": [
       "     Preg  Plas  Pres  skin  test  mass   pedi  age  class\n",
       "0       6   148    72    35     0  33.6  0.627   50      1\n",
       "1       1    85    66    29     0  26.6  0.351   31      0\n",
       "2       8   183    64     0     0  23.3  0.672   32      1\n",
       "3       1    89    66    23    94  28.1  0.167   21      0\n",
       "4       0   137    40    35   168  43.1  2.288   33      1\n",
       "..    ...   ...   ...   ...   ...   ...    ...  ...    ...\n",
       "763    10   101    76    48   180  32.9  0.171   63      0\n",
       "764     2   122    70    27     0  36.8  0.340   27      0\n",
       "765     5   121    72    23   112  26.2  0.245   30      0\n",
       "766     1   126    60     0     0  30.1  0.349   47      1\n",
       "767     1    93    70    31     0  30.4  0.315   23      0\n",
       "\n",
       "[768 rows x 9 columns]"
      ]
     },
     "execution_count": 26,
     "metadata": {},
     "output_type": "execute_result"
    }
   ],
   "source": [
    "df=pd.read_csv(r'D:\\Datasets\\12.pima-indians-diabetes.csv')\n",
    "df"
   ]
  },
  {
   "cell_type": "code",
   "execution_count": 27,
   "id": "6a218e1e",
   "metadata": {},
   "outputs": [],
   "source": [
    "x=df.drop('class',axis=1)\n",
    "y=df['class']"
   ]
  },
  {
   "cell_type": "markdown",
   "id": "f8b1aa5c",
   "metadata": {},
   "source": [
    "### Divide your data into Training, Validation and Testing Data"
   ]
  },
  {
   "cell_type": "code",
   "execution_count": 28,
   "id": "7d5010a2",
   "metadata": {},
   "outputs": [],
   "source": [
    "#using 20% of data for final testing\n",
    "#rest of the 80% for training and validation process\n",
    "\n",
    "# step 1:\n",
    "    #1. First divide dataset into training (20%) and testing (80%)\n",
    "    #2. Next divide the 80% to training and testing as per requirement\n",
    "    \n",
    "sample_x, test_x, sample_y, test_y = train_test_split(\n",
    "                                                        x,y\n",
    "                                                        ,test_size=0.2\n",
    "                                                        ,random_state=89)\n",
    "    \n",
    "train_x, validation_x, train_y, validation_y = train_test_split(\n",
    "                                                        sample_x,sample_y\n",
    "                                                        ,test_size=0.2\n",
    "                                                        ,random_state=45)"
   ]
  },
  {
   "cell_type": "code",
   "execution_count": 29,
   "id": "e8519fce",
   "metadata": {},
   "outputs": [
    {
     "name": "stdout",
     "output_type": "stream",
     "text": [
      "Total dataset:  768\n",
      "Total test data saved for future use:  154\n",
      "Total training data:  491\n",
      "Total validation data:  123\n"
     ]
    }
   ],
   "source": [
    "print('Total dataset: ',len(x.values))\n",
    "print('Total test data saved for future use: ',len(test_x+test_y))\n",
    "print('Total training data: ',len(train_x+train_y))\n",
    "print('Total validation data: ',len(validation_x+validation_y))"
   ]
  },
  {
   "cell_type": "code",
   "execution_count": 30,
   "id": "ba63fda8",
   "metadata": {},
   "outputs": [],
   "source": [
    "from sklearn.neighbors import KNeighborsClassifier\n",
    "\n",
    "knn_clf=KNeighborsClassifier()"
   ]
  },
  {
   "cell_type": "code",
   "execution_count": 31,
   "id": "75dde418",
   "metadata": {},
   "outputs": [],
   "source": [
    "# knn_clf.get_params()\n",
    "\n",
    "# result:\n",
    "#     {'algorithm': 'auto',\n",
    "#  'leaf_size': 30,\n",
    "#  'metric': 'minkowski',\n",
    "#  'metric_params': None,\n",
    "#  'n_jobs': None,\n",
    "#  'n_neighbors': 5,\n",
    "#  'p': 2,\n",
    "#  'weights': 'uniform'}"
   ]
  },
  {
   "cell_type": "code",
   "execution_count": 32,
   "id": "4517e63d",
   "metadata": {},
   "outputs": [],
   "source": [
    "param_grid={'algorithm': ('auto','ball_tree','kd_tree','brute') # after looking at results we know that algo: auto and n_neig:8\n",
    "             ,'n_neighbors':list(range(1,9)) \n",
    "           } # list(range(1,9))                  # are best fit"
   ]
  },
  {
   "cell_type": "code",
   "execution_count": 33,
   "id": "870bd547",
   "metadata": {},
   "outputs": [],
   "source": [
    "from sklearn.model_selection import GridSearchCV\n",
    "\n",
    "gs=GridSearchCV(knn_clf,param_grid,cv=20)"
   ]
  },
  {
   "cell_type": "code",
   "execution_count": 34,
   "id": "97513954",
   "metadata": {},
   "outputs": [
    {
     "data": {
      "text/plain": [
       "GridSearchCV(cv=20, estimator=KNeighborsClassifier(),\n",
       "             param_grid={'algorithm': ('auto', 'ball_tree', 'kd_tree', 'brute'),\n",
       "                         'n_neighbors': [1, 2, 3, 4, 5, 6, 7, 8]})"
      ]
     },
     "execution_count": 34,
     "metadata": {},
     "output_type": "execute_result"
    }
   ],
   "source": [
    "gs.fit(train_x,train_y)"
   ]
  },
  {
   "cell_type": "code",
   "execution_count": 35,
   "id": "972bc2e5",
   "metadata": {},
   "outputs": [
    {
     "data": {
      "text/plain": [
       "KNeighborsClassifier(n_neighbors=8)"
      ]
     },
     "execution_count": 35,
     "metadata": {},
     "output_type": "execute_result"
    }
   ],
   "source": [
    "gs.best_estimator_"
   ]
  },
  {
   "cell_type": "code",
   "execution_count": 36,
   "id": "00b6aa87",
   "metadata": {},
   "outputs": [
    {
     "data": {
      "text/plain": [
       "{'algorithm': 'auto', 'n_neighbors': 8}"
      ]
     },
     "execution_count": 36,
     "metadata": {},
     "output_type": "execute_result"
    }
   ],
   "source": [
    "gs.best_params_"
   ]
  },
  {
   "cell_type": "code",
   "execution_count": 37,
   "id": "e25f92bf",
   "metadata": {},
   "outputs": [
    {
     "name": "stdout",
     "output_type": "stream",
     "text": [
      "76.0 %\n"
     ]
    }
   ],
   "source": [
    "print(round(gs.best_score_,2)*100,'%')"
   ]
  },
  {
   "cell_type": "code",
   "execution_count": 38,
   "id": "e2d1ede4",
   "metadata": {},
   "outputs": [
    {
     "name": "stdout",
     "output_type": "stream",
     "text": [
      "Validation Score: 67.48%\n"
     ]
    }
   ],
   "source": [
    "print('Validation Score: {}%'.format(round(gs.score(validation_x,validation_y)*100,2)))"
   ]
  },
  {
   "cell_type": "code",
   "execution_count": 39,
   "id": "4a9f6963",
   "metadata": {},
   "outputs": [
    {
     "data": {
      "text/plain": [
       "array([0.6735    , 0.72725   , 0.71491667, 0.74116667, 0.73291667,\n",
       "       0.74741667, 0.74925   , 0.76366667, 0.6735    , 0.72725   ,\n",
       "       0.71491667, 0.74116667, 0.73291667, 0.74741667, 0.74925   ,\n",
       "       0.76366667, 0.6735    , 0.72725   , 0.71491667, 0.74116667,\n",
       "       0.73291667, 0.74741667, 0.74925   , 0.76366667, 0.6735    ,\n",
       "       0.72725   , 0.71491667, 0.74116667, 0.73291667, 0.74741667,\n",
       "       0.74925   , 0.76366667])"
      ]
     },
     "execution_count": 39,
     "metadata": {},
     "output_type": "execute_result"
    }
   ],
   "source": [
    "gs.cv_results_['mean_test_score']"
   ]
  },
  {
   "cell_type": "code",
   "execution_count": 40,
   "id": "d00ed930",
   "metadata": {},
   "outputs": [
    {
     "name": "stdout",
     "output_type": "stream",
     "text": [
      "Training Accuracy :  80.04 %\n",
      "Validation Accuracy :  67.48 %\n"
     ]
    }
   ],
   "source": [
    "# we can varify that above best result is given by best parameters, so after all tuning we reduced our model to this,\n",
    "\n",
    "from sklearn import metrics\n",
    "\n",
    "knn_clf1=KNeighborsClassifier(n_neighbors=8,algorithm='auto')\n",
    "knn_clf1.fit(train_x,train_y)\n",
    "\n",
    "val_pred_y=knn_clf1.predict(validation_x)\n",
    "train_pred_y=knn_clf1.predict(train_x)\n",
    "\n",
    "print('Training Accuracy : ',round(metrics.accuracy_score(train_y,train_pred_y)*100,2),'%')\n",
    "print('Validation Accuracy : ',round(metrics.accuracy_score(validation_y,val_pred_y)*100,2),'%')"
   ]
  },
  {
   "cell_type": "code",
   "execution_count": 41,
   "id": "4a8eaf3e",
   "metadata": {},
   "outputs": [
    {
     "data": {
      "image/png": "[encoded data removed]",
      "text/plain": [
       "<Figure size 400x300 with 2 Axes>"
      ]
     },
     "metadata": {},
     "output_type": "display_data"
    },
    {
     "name": "stdout",
     "output_type": "stream",
     "text": [
      "Accuracy: 67.48%\n"
     ]
    }
   ],
   "source": [
    "#Confusion matrix\n",
    "\n",
    "from sklearn.metrics import confusion_matrix\n",
    "from mlxtend.plotting import plot_confusion_matrix\n",
    "import matplotlib.pyplot as plt\n",
    "import seaborn as sns\n",
    "\n",
    "conf_matrix=confusion_matrix(validation_y,val_pred_y)\n",
    "accuracy=round((conf_matrix[0,0]+conf_matrix[1,1])/conf_matrix.sum()*100,2)\n",
    "\n",
    "plt.figure(figsize=(4,3))\n",
    "sns.heatmap(conf_matrix,annot=True)\n",
    "plt.xlabel('Prediciton',fontsize=9)\n",
    "plt.ylabel('Validation Results',fontsize=9)\n",
    "plt.title('Confusion matrix for validation',fontsize=12)\n",
    "plt.show()\n",
    "print(f'Accuracy: {accuracy}%')"
   ]
  },
  {
   "cell_type": "code",
   "execution_count": 42,
   "id": "21583d82",
   "metadata": {},
   "outputs": [
    {
     "name": "stdout",
     "output_type": "stream",
     "text": [
      "              precision    recall  f1-score   support\n",
      "\n",
      "           0       0.70      0.84      0.76        77\n",
      "           1       0.60      0.39      0.47        46\n",
      "\n",
      "    accuracy                           0.67       123\n",
      "   macro avg       0.65      0.62      0.62       123\n",
      "weighted avg       0.66      0.67      0.66       123\n",
      "\n"
     ]
    }
   ],
   "source": [
    "# Classification Report\n",
    "\n",
    "from sklearn.metrics import classification_report\n",
    "print(classification_report(validation_y,val_pred_y))"
   ]
  },
  {
   "cell_type": "markdown",
   "id": "45a5b5ad",
   "metadata": {},
   "source": [
    "**ROC-receiver operating characteristic curve**\n",
    "- It's a plot between True Positive Rate and False Positive Rate<br><br>\n",
    "\n",
    "- $TPR\\ (true\\  positive\\  rate)=\\frac{TP}{TP+FN}$<br><br>\n",
    "\n",
    "- $FPR\\ (false\\  positive\\  rate)=\\frac{FP}{FP+TN}$<br><br>\n",
    "\n",
    "- $threshold=$<br><br>\n",
    "\n",
    "- $AUC-Area\\  Under\\  Curve$<br><br>"
   ]
  },
  {
   "cell_type": "code",
   "execution_count": 43,
   "id": "76189bd1",
   "metadata": {},
   "outputs": [
    {
     "data": {
      "image/png": "[encoded data removed]",
      "text/plain": [
       "<Figure size 640x480 with 1 Axes>"
      ]
     },
     "metadata": {},
     "output_type": "display_data"
    }
   ],
   "source": [
    "# AUC and ROC Curve\n",
    "\n",
    "from sklearn.metrics import roc_curve\n",
    "from sklearn.metrics import auc\n",
    "import matplotlib.pyplot as plt\n",
    "\n",
    "prob_val_y=knn_clf1.predict_proba(validation_x)\n",
    "fpr,tpr,threshold=roc_curve(validation_y,prob_val_y[:,1])\n",
    "roc_auc=auc(fpr,tpr)\n",
    "\n",
    "plt.plot(fpr,tpr,'b',label='AUC=%0.2f'%roc_auc)\n",
    "plt.plot([0,1],[0,1],'r--',label='Reference line')\n",
    "# plt.plot(np.linspace(0,1,7),threshold,'v--g',label='Threshold') # concept not clear\n",
    "plt.xlim([0,1])\n",
    "plt.ylim([0,1])\n",
    "plt.ylabel('True Positive Rate')\n",
    "plt.xlabel('False Positive Rate')\n",
    "plt.legend()\n",
    "plt.title('ROC curve of kNN')\n",
    "plt.show()"
   ]
  },
  {
   "cell_type": "markdown",
   "id": "c5d1c4ce",
   "metadata": {},
   "source": [
    "# <font color= 'purple'>**PIPELINE**<font>"
   ]
  },
  {
   "cell_type": "markdown",
   "id": "68c4a22a",
   "metadata": {},
   "source": [
    "- Click here to find more details about datasets.\n",
    "['Brest cancer wisconsin dataset'](https://archive.ics.uci.edu/ml/datasets/breast+cancer+wisconsin+(diagnostic))"
   ]
  },
  {
   "cell_type": "code",
   "execution_count": 44,
   "id": "5e192e25",
   "metadata": {},
   "outputs": [
    {
     "data": {
      "text/html": [
       "<div>\n",
       "<style scoped>\n",
       "    .dataframe tbody tr th:only-of-type {\n",
       "        vertical-align: middle;\n",
       "    }\n",
       "\n",
       "    .dataframe tbody tr th {\n",
       "        vertical-align: top;\n",
       "    }\n",
       "\n",
       "    .dataframe thead th {\n",
       "        text-align: right;\n",
       "    }\n",
       "</style>\n",
       "<table border=\"1\" class=\"dataframe\">\n",
       "  <thead>\n",
       "    <tr style=\"text-align: right;\">\n",
       "      <th></th>\n",
       "      <th>id</th>\n",
       "      <th>diagnosis</th>\n",
       "      <th>radius_mean</th>\n",
       "      <th>texture_mean</th>\n",
       "      <th>perimeter_mean</th>\n",
       "      <th>area_mean</th>\n",
       "      <th>smoothness_mean</th>\n",
       "      <th>compactness_mean</th>\n",
       "      <th>concavity_mean</th>\n",
       "      <th>points_mean</th>\n",
       "      <th>...</th>\n",
       "      <th>radius_worst</th>\n",
       "      <th>texture_worst</th>\n",
       "      <th>perimeter_worst</th>\n",
       "      <th>area_worst</th>\n",
       "      <th>smoothness_worst</th>\n",
       "      <th>compactness_worst</th>\n",
       "      <th>concavity_worst</th>\n",
       "      <th>points_worst</th>\n",
       "      <th>symmetry_worst</th>\n",
       "      <th>dimension_worst</th>\n",
       "    </tr>\n",
       "  </thead>\n",
       "  <tbody>\n",
       "    <tr>\n",
       "      <th>0</th>\n",
       "      <td>87139402</td>\n",
       "      <td>B</td>\n",
       "      <td>12.32</td>\n",
       "      <td>12.39</td>\n",
       "      <td>78.85</td>\n",
       "      <td>464.1</td>\n",
       "      <td>0.10280</td>\n",
       "      <td>0.06981</td>\n",
       "      <td>0.03987</td>\n",
       "      <td>0.03700</td>\n",
       "      <td>...</td>\n",
       "      <td>13.50</td>\n",
       "      <td>15.64</td>\n",
       "      <td>86.97</td>\n",
       "      <td>549.1</td>\n",
       "      <td>0.1385</td>\n",
       "      <td>0.1266</td>\n",
       "      <td>0.12420</td>\n",
       "      <td>0.09391</td>\n",
       "      <td>0.2827</td>\n",
       "      <td>0.06771</td>\n",
       "    </tr>\n",
       "    <tr>\n",
       "      <th>1</th>\n",
       "      <td>8910251</td>\n",
       "      <td>B</td>\n",
       "      <td>10.60</td>\n",
       "      <td>18.95</td>\n",
       "      <td>69.28</td>\n",
       "      <td>346.4</td>\n",
       "      <td>0.09688</td>\n",
       "      <td>0.11470</td>\n",
       "      <td>0.06387</td>\n",
       "      <td>0.02642</td>\n",
       "      <td>...</td>\n",
       "      <td>11.88</td>\n",
       "      <td>22.94</td>\n",
       "      <td>78.28</td>\n",
       "      <td>424.8</td>\n",
       "      <td>0.1213</td>\n",
       "      <td>0.2515</td>\n",
       "      <td>0.19160</td>\n",
       "      <td>0.07926</td>\n",
       "      <td>0.2940</td>\n",
       "      <td>0.07587</td>\n",
       "    </tr>\n",
       "    <tr>\n",
       "      <th>2</th>\n",
       "      <td>905520</td>\n",
       "      <td>B</td>\n",
       "      <td>11.04</td>\n",
       "      <td>16.83</td>\n",
       "      <td>70.92</td>\n",
       "      <td>373.2</td>\n",
       "      <td>0.10770</td>\n",
       "      <td>0.07804</td>\n",
       "      <td>0.03046</td>\n",
       "      <td>0.02480</td>\n",
       "      <td>...</td>\n",
       "      <td>12.41</td>\n",
       "      <td>26.44</td>\n",
       "      <td>79.93</td>\n",
       "      <td>471.4</td>\n",
       "      <td>0.1369</td>\n",
       "      <td>0.1482</td>\n",
       "      <td>0.10670</td>\n",
       "      <td>0.07431</td>\n",
       "      <td>0.2998</td>\n",
       "      <td>0.07881</td>\n",
       "    </tr>\n",
       "    <tr>\n",
       "      <th>3</th>\n",
       "      <td>868871</td>\n",
       "      <td>B</td>\n",
       "      <td>11.28</td>\n",
       "      <td>13.39</td>\n",
       "      <td>73.00</td>\n",
       "      <td>384.8</td>\n",
       "      <td>0.11640</td>\n",
       "      <td>0.11360</td>\n",
       "      <td>0.04635</td>\n",
       "      <td>0.04796</td>\n",
       "      <td>...</td>\n",
       "      <td>11.92</td>\n",
       "      <td>15.77</td>\n",
       "      <td>76.53</td>\n",
       "      <td>434.0</td>\n",
       "      <td>0.1367</td>\n",
       "      <td>0.1822</td>\n",
       "      <td>0.08669</td>\n",
       "      <td>0.08611</td>\n",
       "      <td>0.2102</td>\n",
       "      <td>0.06784</td>\n",
       "    </tr>\n",
       "    <tr>\n",
       "      <th>4</th>\n",
       "      <td>9012568</td>\n",
       "      <td>B</td>\n",
       "      <td>15.19</td>\n",
       "      <td>13.21</td>\n",
       "      <td>97.65</td>\n",
       "      <td>711.8</td>\n",
       "      <td>0.07963</td>\n",
       "      <td>0.06934</td>\n",
       "      <td>0.03393</td>\n",
       "      <td>0.02657</td>\n",
       "      <td>...</td>\n",
       "      <td>16.20</td>\n",
       "      <td>15.73</td>\n",
       "      <td>104.50</td>\n",
       "      <td>819.1</td>\n",
       "      <td>0.1126</td>\n",
       "      <td>0.1737</td>\n",
       "      <td>0.13620</td>\n",
       "      <td>0.08178</td>\n",
       "      <td>0.2487</td>\n",
       "      <td>0.06766</td>\n",
       "    </tr>\n",
       "  </tbody>\n",
       "</table>\n",
       "<p>5 rows × 32 columns</p>\n",
       "</div>"
      ],
      "text/plain": [
       "         id diagnosis  radius_mean  texture_mean  perimeter_mean  area_mean  \\\n",
       "0  87139402         B        12.32         12.39           78.85      464.1   \n",
       "1   8910251         B        10.60         18.95           69.28      346.4   \n",
       "2    905520         B        11.04         16.83           70.92      373.2   \n",
       "3    868871         B        11.28         13.39           73.00      384.8   \n",
       "4   9012568         B        15.19         13.21           97.65      711.8   \n",
       "\n",
       "   smoothness_mean  compactness_mean  concavity_mean  points_mean  ...  \\\n",
       "0          0.10280           0.06981         0.03987      0.03700  ...   \n",
       "1          0.09688           0.11470         0.06387      0.02642  ...   \n",
       "2          0.10770           0.07804         0.03046      0.02480  ...   \n",
       "3          0.11640           0.11360         0.04635      0.04796  ...   \n",
       "4          0.07963           0.06934         0.03393      0.02657  ...   \n",
       "\n",
       "   radius_worst  texture_worst  perimeter_worst  area_worst  smoothness_worst  \\\n",
       "0         13.50          15.64            86.97       549.1            0.1385   \n",
       "1         11.88          22.94            78.28       424.8            0.1213   \n",
       "2         12.41          26.44            79.93       471.4            0.1369   \n",
       "3         11.92          15.77            76.53       434.0            0.1367   \n",
       "4         16.20          15.73           104.50       819.1            0.1126   \n",
       "\n",
       "   compactness_worst  concavity_worst  points_worst  symmetry_worst  \\\n",
       "0             0.1266          0.12420       0.09391          0.2827   \n",
       "1             0.2515          0.19160       0.07926          0.2940   \n",
       "2             0.1482          0.10670       0.07431          0.2998   \n",
       "3             0.1822          0.08669       0.08611          0.2102   \n",
       "4             0.1737          0.13620       0.08178          0.2487   \n",
       "\n",
       "   dimension_worst  \n",
       "0          0.06771  \n",
       "1          0.07587  \n",
       "2          0.07881  \n",
       "3          0.06784  \n",
       "4          0.06766  \n",
       "\n",
       "[5 rows x 32 columns]"
      ]
     },
     "execution_count": 44,
     "metadata": {},
     "output_type": "execute_result"
    }
   ],
   "source": [
    "df=pd.read_csv(r'D:\\Datasets\\21.wisc_bc_data.csv')\n",
    "df.head()"
   ]
  },
  {
   "cell_type": "code",
   "execution_count": 45,
   "id": "f0531e53",
   "metadata": {},
   "outputs": [
    {
     "data": {
      "text/plain": [
       "id                   0\n",
       "diagnosis            0\n",
       "radius_mean          0\n",
       "texture_mean         0\n",
       "perimeter_mean       0\n",
       "area_mean            0\n",
       "smoothness_mean      0\n",
       "compactness_mean     0\n",
       "concavity_mean       0\n",
       "points_mean          0\n",
       "symmetry_mean        0\n",
       "dimension_mean       0\n",
       "radius_se            0\n",
       "texture_se           0\n",
       "perimeter_se         0\n",
       "area_se              0\n",
       "smoothness_se        0\n",
       "compactness_se       0\n",
       "concavity_se         0\n",
       "points_se            0\n",
       "symmetry_se          0\n",
       "dimension_se         0\n",
       "radius_worst         0\n",
       "texture_worst        0\n",
       "perimeter_worst      0\n",
       "area_worst           0\n",
       "smoothness_worst     0\n",
       "compactness_worst    0\n",
       "concavity_worst      0\n",
       "points_worst         0\n",
       "symmetry_worst       0\n",
       "dimension_worst      0\n",
       "dtype: int64"
      ]
     },
     "execution_count": 45,
     "metadata": {},
     "output_type": "execute_result"
    }
   ],
   "source": [
    "df.isnull().sum()"
   ]
  },
  {
   "cell_type": "code",
   "execution_count": 46,
   "id": "ad69ea6d",
   "metadata": {},
   "outputs": [
    {
     "data": {
      "text/plain": [
       "(569, 32)"
      ]
     },
     "execution_count": 46,
     "metadata": {},
     "output_type": "execute_result"
    }
   ],
   "source": [
    "df.shape"
   ]
  },
  {
   "cell_type": "code",
   "execution_count": 47,
   "id": "016db6ac",
   "metadata": {},
   "outputs": [],
   "source": [
    "x=df.iloc[:,2:].values\n",
    "y=df.iloc[:,1].values"
   ]
  },
  {
   "cell_type": "code",
   "execution_count": 48,
   "id": "77947fd8",
   "metadata": {},
   "outputs": [
    {
     "data": {
      "text/plain": [
       "array(['B', 'M'], dtype=object)"
      ]
     },
     "execution_count": 48,
     "metadata": {},
     "output_type": "execute_result"
    }
   ],
   "source": [
    "np.unique(y)"
   ]
  },
  {
   "cell_type": "code",
   "execution_count": 49,
   "id": "34c0082a",
   "metadata": {},
   "outputs": [
    {
     "data": {
      "text/plain": [
       "array([1, 0])"
      ]
     },
     "execution_count": 49,
     "metadata": {},
     "output_type": "execute_result"
    }
   ],
   "source": [
    "from sklearn.preprocessing import LabelEncoder\n",
    "\n",
    "le=LabelEncoder()\n",
    "y=le.fit_transform(y)   # we fit the y and transformed it as well, with label encoder\n",
    "\n",
    "le.transform(['M','B'])   # to show its effect"
   ]
  },
  {
   "cell_type": "code",
   "execution_count": 50,
   "id": "5add5286",
   "metadata": {},
   "outputs": [],
   "source": [
    "# Save 20% data for testing\n",
    "# use 80% for training and validation\n",
    "# We do not tune our model according to test data, thats why we split in training and validation for training\n",
    "\n",
    "# 80:20\n",
    "\n",
    "sample_x,test_x,sample_y,test_y=train_test_split(x,y,test_size=0.2,random_state=34)\n",
    "\n",
    "# 75:25 of 80%, in training and validation\n",
    "\n",
    "train_x,validation_x,train_y,validation_y=train_test_split(sample_x,sample_y,test_size=0.25,random_state=45)"
   ]
  },
  {
   "cell_type": "code",
   "execution_count": 51,
   "id": "dd1a163d",
   "metadata": {},
   "outputs": [
    {
     "name": "stdout",
     "output_type": "stream",
     "text": [
      "Total Dataset:                         569\n",
      "total test data saved for future use:  114\n",
      "Total training data:                   341\n",
      "Total validation data:                 114\n"
     ]
    }
   ],
   "source": [
    "print('Total Dataset:                        ', len(x))\n",
    "print('total test data saved for future use: ',len(test_x))\n",
    "print('Total training data:                  ',len(train_x))\n",
    "print('Total validation data:                ',len(validation_x))"
   ]
  },
  {
   "cell_type": "markdown",
   "id": "daeec2dc",
   "metadata": {},
   "source": [
    "**Implement Pipeline**"
   ]
  },
  {
   "cell_type": "code",
   "execution_count": 52,
   "id": "c5c09777",
   "metadata": {},
   "outputs": [
    {
     "name": "stdout",
     "output_type": "stream",
     "text": [
      "Validation Accuracy: 92.98 %\n"
     ]
    }
   ],
   "source": [
    "from sklearn.preprocessing import StandardScaler\n",
    "from sklearn.decomposition import PCA\n",
    "from sklearn.linear_model import LogisticRegression\n",
    "from sklearn.pipeline import Pipeline\n",
    "\n",
    "#pipelines are written orderly, 1.scaler, 2.transformer, 3.model\n",
    "# or in accurate words, in order we need to perform operations.\n",
    "\n",
    "pipe_lr=Pipeline([('sc',StandardScaler()),('pca',PCA(n_components=2)),('LR',LogisticRegression())])\n",
    "pipe_lr.fit(train_x,train_y)\n",
    "\n",
    "print('Validation Accuracy: %.2f %%'%(pipe_lr.score(validation_x,validation_y)*100))"
   ]
  },
  {
   "cell_type": "markdown",
   "id": "c3771c2c",
   "metadata": {},
   "source": [
    "**Grid Seach**"
   ]
  },
  {
   "cell_type": "code",
   "execution_count": 53,
   "id": "91ef57a9",
   "metadata": {
    "scrolled": true
   },
   "outputs": [
    {
     "data": {
      "text/plain": [
       "{'C': 1.0,\n",
       " 'break_ties': False,\n",
       " 'cache_size': 200,\n",
       " 'class_weight': None,\n",
       " 'coef0': 0.0,\n",
       " 'decision_function_shape': 'ovr',\n",
       " 'degree': 3,\n",
       " 'gamma': 'scale',\n",
       " 'kernel': 'rbf',\n",
       " 'max_iter': -1,\n",
       " 'probability': False,\n",
       " 'random_state': None,\n",
       " 'shrinking': True,\n",
       " 'tol': 0.001,\n",
       " 'verbose': False}"
      ]
     },
     "execution_count": 53,
     "metadata": {},
     "output_type": "execute_result"
    }
   ],
   "source": [
    "from sklearn.svm import SVC\n",
    "\n",
    "SVC().get_params()"
   ]
  },
  {
   "cell_type": "code",
   "execution_count": 54,
   "id": "04b93469",
   "metadata": {},
   "outputs": [
    {
     "data": {
      "text/plain": [
       "{'copy': True,\n",
       " 'iterated_power': 'auto',\n",
       " 'n_components': None,\n",
       " 'random_state': None,\n",
       " 'svd_solver': 'auto',\n",
       " 'tol': 0.0,\n",
       " 'whiten': False}"
      ]
     },
     "execution_count": 54,
     "metadata": {},
     "output_type": "execute_result"
    }
   ],
   "source": [
    "PCA().get_params()"
   ]
  },
  {
   "cell_type": "code",
   "execution_count": 55,
   "id": "e9dd1ecd",
   "metadata": {},
   "outputs": [
    {
     "name": "stdout",
     "output_type": "stream",
     "text": [
      "Best parameters:  {'pca__n_components': 9, 'svc__C': 10, 'svc__gamma': 0.01, 'svc__kernel': 'rbf'}\n",
      "====================================================================================================\n",
      "Best cross validation train accuracy: 97.96%\n",
      "Validation set accuracy: 94.74%\n"
     ]
    }
   ],
   "source": [
    "#performing grid seach with pipeline\n",
    "\n",
    "pipe_svc=Pipeline([('sc',StandardScaler()),('pca',PCA(n_components=2)),('svc',SVC(probability=True))])\n",
    "\n",
    "\n",
    "param_grid={'pca__n_components': list(np.arange(8,15,1)),\n",
    "            'svc__C':[0.001,0.01,0.1,1,10,100],\n",
    "            'svc__gamma':[0.001,0.01,0.1,1,10],\n",
    "            'svc__kernel':['rbf','poly']}\n",
    "\n",
    "grid=GridSearchCV(pipe_svc,\n",
    "                  param_grid=param_grid,\n",
    "                  cv=5)\n",
    "\n",
    "grid.fit(train_x,train_y)\n",
    "\n",
    "#printing results\n",
    "print('Best parameters: ',grid.best_params_)\n",
    "print('====================================================================================================')\n",
    "print('Best cross validation train accuracy: {:.2f}%'.format((grid.best_score_*100)))\n",
    "print('Validation set accuracy: {:.2f}%'.format(grid.score(validation_x,validation_y)*100))"
   ]
  },
  {
   "cell_type": "code",
   "execution_count": 56,
   "id": "68c06146",
   "metadata": {},
   "outputs": [],
   "source": [
    "#For final Test\n",
    "pred_y=grid.predict(test_x)\n",
    "\n",
    "# Confusion matrix\n",
    "conf_matrix=confusion_matrix(test_y,pred_y)"
   ]
  },
  {
   "cell_type": "code",
   "execution_count": 57,
   "id": "f5dd8569",
   "metadata": {},
   "outputs": [
    {
     "data": {
      "image/png": "[encoded data removed]",
      "text/plain": [
       "<Figure size 700x500 with 2 Axes>"
      ]
     },
     "metadata": {},
     "output_type": "display_data"
    },
    {
     "name": "stdout",
     "output_type": "stream",
     "text": [
      "Test set accuracy: 93.86%\n"
     ]
    }
   ],
   "source": [
    "#plotting heatmap\n",
    "\n",
    "plt.figure(figsize=(7,5))\n",
    "sns.heatmap(conf_matrix,annot=True)\n",
    "plt.xlabel('Predictions',fontsize=12)\n",
    "plt.ylabel('Actuals',fontsize=12)\n",
    "plt.title('Confusion Matrix',fontsize=15)\n",
    "plt.show()\n",
    "print('Test set accuracy: {:.2f}%'.format(grid.score(test_x,test_y)*100))"
   ]
  },
  {
   "cell_type": "code",
   "execution_count": 58,
   "id": "b570a1ac",
   "metadata": {},
   "outputs": [
    {
     "name": "stdout",
     "output_type": "stream",
     "text": [
      "              precision    recall  f1-score   support\n",
      "\n",
      "           0       0.92      0.99      0.95        69\n",
      "           1       0.97      0.87      0.92        45\n",
      "\n",
      "    accuracy                           0.94       114\n",
      "   macro avg       0.95      0.93      0.93       114\n",
      "weighted avg       0.94      0.94      0.94       114\n",
      "\n"
     ]
    }
   ],
   "source": [
    "# Classification Report\n",
    "print(classification_report(test_y,pred_y))"
   ]
  },
  {
   "cell_type": "code",
   "execution_count": 59,
   "id": "fafffecf",
   "metadata": {},
   "outputs": [],
   "source": [
    "#ROC AUC using grid.predict_proba(test_x)\n",
    "\n",
    "test_score_y=grid.predict_proba(test_x)\n",
    "fpr,tpr,threshold=roc_curve(test_y,test_score_y[:,1])\n",
    "roc_auc=auc(fpr,tpr)"
   ]
  },
  {
   "cell_type": "code",
   "execution_count": 60,
   "id": "eefe7e79",
   "metadata": {},
   "outputs": [
    {
     "data": {
      "image/png": "[encoded data removed]",
      "text/plain": [
       "<Figure size 640x480 with 1 Axes>"
      ]
     },
     "metadata": {},
     "output_type": "display_data"
    },
    {
     "name": "stdout",
     "output_type": "stream",
     "text": [
      "Test set accuracy: 93.86%\n"
     ]
    }
   ],
   "source": [
    "#plotting ROC curve\n",
    "\n",
    "plt.plot(fpr,tpr,'b',label='AUC=%0.2f'% roc_auc)\n",
    "plt.legend()\n",
    "plt.plot([0,1],[0,1],'r--')\n",
    "plt.xlim([0,1])\n",
    "plt.ylim([0,1])\n",
    "plt.xlabel('False Positive Rate')\n",
    "plt.ylabel('True Positive Rate')\n",
    "plt.title('ROC Curve for SVC')\n",
    "plt.show()\n",
    "print('Test set accuracy: {:.2f}%'.format(grid.score(test_x,test_y)*100))"
   ]
  },
  {
   "cell_type": "markdown",
   "id": "4508c100",
   "metadata": {},
   "source": [
    "**Another important example**"
   ]
  },
  {
   "cell_type": "code",
   "execution_count": 61,
   "id": "5c7de2fc",
   "metadata": {},
   "outputs": [],
   "source": [
    "data_url='http://lib.stat.cmu.edu/datasets/boston'\n",
    "\n",
    "raw_df=pd.read_csv(data_url,sep='\\s+',skiprows=22,header=None)\n",
    "\n",
    "# hstack horizontally stack data\n",
    "# for example\n",
    "#     1st Input array : \n",
    "#     [1 2 3]\n",
    "#     2nd Input array : \n",
    "#     [4 5 6]\n",
    "\n",
    "#     Output horizontally stacked array:\n",
    "#     [1 2 3 4 5 6]\n",
    "\n",
    "# [::2] slice data at step of 2\n",
    "\n",
    "data = np.hstack([raw_df.values[::2, :], raw_df.values[1::2, :2]]) # You can check raw data why this step is done\n",
    "\n",
    "target = raw_df.values[1::2, 2]"
   ]
  },
  {
   "cell_type": "code",
   "execution_count": 62,
   "id": "a7ff833b",
   "metadata": {},
   "outputs": [],
   "source": [
    "x_train, x_test, y_train, y_test = train_test_split(data,target,test_size=0.3)"
   ]
  },
  {
   "cell_type": "markdown",
   "id": "4f264048",
   "metadata": {},
   "source": [
    "Random forest regressor model with n_estimators of 5 and max_depth of 3, **without Cross Validation**"
   ]
  },
  {
   "cell_type": "code",
   "execution_count": 63,
   "id": "ed4bdf3f",
   "metadata": {},
   "outputs": [
    {
     "name": "stdout",
     "output_type": "stream",
     "text": [
      "Training Score: 92.58%\n",
      "test: 78%\n"
     ]
    }
   ],
   "source": [
    "# after finding best parameters in GridSearchCV we can recheck by changing parameters\n",
    "# we are treating our test data as validation data\n",
    "\n",
    "from sklearn.ensemble import RandomForestRegressor\n",
    "\n",
    "rf=RandomForestRegressor(n_estimators=5,max_depth=5)\n",
    "rf.fit(x_train,y_train)\n",
    "print('Training Score: {}%'.format(round(rf.score(x_train,y_train)*100,2)))\n",
    "print('test: {}%'.format(round(rf.score(x_test,y_test)*100),2))"
   ]
  },
  {
   "cell_type": "markdown",
   "id": "b94bcbe5",
   "metadata": {},
   "source": [
    "Now Let's try with **Cross Validation**"
   ]
  },
  {
   "cell_type": "code",
   "execution_count": 64,
   "id": "d03bf491",
   "metadata": {},
   "outputs": [
    {
     "name": "stdout",
     "output_type": "stream",
     "text": [
      "Cross validation test score: 77.51%\n"
     ]
    }
   ],
   "source": [
    "scores1=cross_val_score(RandomForestRegressor(n_estimators=5,max_depth=3),x_train,y_train,cv=10)\n",
    "print('Cross validation test score: {}%'.format(round(np.average(scores1)*100,2)))"
   ]
  },
  {
   "cell_type": "markdown",
   "id": "81f92287",
   "metadata": {},
   "source": [
    "- Cross validation alone is not doing any good."
   ]
  },
  {
   "cell_type": "markdown",
   "id": "79485e60",
   "metadata": {},
   "source": [
    "**Let's combine crossvalidation with grid search**"
   ]
  },
  {
   "cell_type": "code",
   "execution_count": 65,
   "id": "f36d411e",
   "metadata": {},
   "outputs": [
    {
     "data": {
      "text/plain": [
       "{'bootstrap': True,\n",
       " 'ccp_alpha': 0.0,\n",
       " 'criterion': 'squared_error',\n",
       " 'max_depth': None,\n",
       " 'max_features': 'auto',\n",
       " 'max_leaf_nodes': None,\n",
       " 'max_samples': None,\n",
       " 'min_impurity_decrease': 0.0,\n",
       " 'min_samples_leaf': 1,\n",
       " 'min_samples_split': 2,\n",
       " 'min_weight_fraction_leaf': 0.0,\n",
       " 'n_estimators': 100,\n",
       " 'n_jobs': None,\n",
       " 'oob_score': False,\n",
       " 'random_state': None,\n",
       " 'verbose': 0,\n",
       " 'warm_start': False}"
      ]
     },
     "execution_count": 65,
     "metadata": {},
     "output_type": "execute_result"
    }
   ],
   "source": [
    "RandomForestRegressor().get_params()"
   ]
  },
  {
   "cell_type": "code",
   "execution_count": 66,
   "id": "8a8d6988",
   "metadata": {},
   "outputs": [
    {
     "data": {
      "text/plain": [
       "0.8658197606776972"
      ]
     },
     "execution_count": 66,
     "metadata": {},
     "output_type": "execute_result"
    }
   ],
   "source": [
    "model=RandomForestRegressor()\n",
    "\n",
    "parameters={\n",
    "            'n_estimators':[20,30,40,60,100],\n",
    "            'max_depth':[5,10,15,20],\n",
    "            'max_features':[2,5,8]\n",
    "        }\n",
    "grid_search = GridSearchCV(\n",
    "                            estimator=model,\n",
    "                            param_grid=parameters,\n",
    "                            cv=10,\n",
    "                            n_jobs=-1\n",
    "        )\n",
    "grid=grid_search.fit(x_train,y_train)\n",
    "grid.best_score_"
   ]
  },
  {
   "cell_type": "code",
   "execution_count": 67,
   "id": "1fcfc8fe",
   "metadata": {},
   "outputs": [
    {
     "data": {
      "text/plain": [
       "{'max_depth': 15, 'max_features': 5, 'n_estimators': 60}"
      ]
     },
     "execution_count": 67,
     "metadata": {},
     "output_type": "execute_result"
    }
   ],
   "source": [
    "grid.best_params_ # These are the parameters, we are going to check our simple model with"
   ]
  },
  {
   "cell_type": "code",
   "execution_count": 68,
   "id": "afc878cd",
   "metadata": {},
   "outputs": [
    {
     "data": {
      "text/plain": [
       "0.817597459468973"
      ]
     },
     "execution_count": 68,
     "metadata": {},
     "output_type": "execute_result"
    }
   ],
   "source": [
    "grid.score(x_test,y_test)"
   ]
  },
  {
   "cell_type": "markdown",
   "id": "bf6157a2",
   "metadata": {},
   "source": [
    "<font color='blue'>**5. RandomizedSearchCV**<font>"
   ]
  },
  {
   "cell_type": "markdown",
   "id": "6fe7dcfc",
   "metadata": {},
   "source": [
    "In Random search CV, the best combination can not be identified because all the combinations are not tested. But the advantage is we can test a broad range of values for hyperparameters within the same computation time as grid search CV."
   ]
  },
  {
   "cell_type": "code",
   "execution_count": 69,
   "id": "f7da8969",
   "metadata": {},
   "outputs": [
    {
     "data": {
      "text/plain": [
       "0.8641052954456075"
      ]
     },
     "execution_count": 69,
     "metadata": {},
     "output_type": "execute_result"
    }
   ],
   "source": [
    "# we are using same example as GridSearchCV\n",
    "# but this time with RandomizedSearchCV\n",
    "from sklearn.model_selection import RandomizedSearchCV\n",
    "\n",
    "model=RandomForestRegressor()\n",
    "\n",
    "parameters={\n",
    "            'n_estimators':[20,30,40,60,100],\n",
    "            'max_depth':[5,10,15,20],\n",
    "            'max_features':[2,5,8]\n",
    "        }\n",
    "rnd_search = RandomizedSearchCV(\n",
    "                            model,\n",
    "                            parameters,\n",
    "                            cv=10,\n",
    "                            return_train_score=True\n",
    "        )\n",
    "rnd=rnd_search.fit(x_train,y_train)\n",
    "rnd.best_score_"
   ]
  },
  {
   "cell_type": "code",
   "execution_count": 70,
   "id": "4794fe12",
   "metadata": {},
   "outputs": [
    {
     "data": {
      "text/plain": [
       "{'n_estimators': 30, 'max_features': 5, 'max_depth': 15}"
      ]
     },
     "execution_count": 70,
     "metadata": {},
     "output_type": "execute_result"
    }
   ],
   "source": [
    "rnd.best_params_ # we can also try these parameters in simple model and test accuracy"
   ]
  }
 ],
 "metadata": {
  "kernelspec": {
   "display_name": "Python 3 (ipykernel)",
   "language": "python",
   "name": "python3"
  },
  "language_info": {
   "codemirror_mode": {
    "name": "ipython",
    "version": 3
   },
   "file_extension": ".py",
   "mimetype": "text/x-python",
   "name": "python",
   "nbconvert_exporter": "python",
   "pygments_lexer": "ipython3",
   "version": "3.9.13"
  }
 },
 "nbformat": 4,
 "nbformat_minor": 5
}
